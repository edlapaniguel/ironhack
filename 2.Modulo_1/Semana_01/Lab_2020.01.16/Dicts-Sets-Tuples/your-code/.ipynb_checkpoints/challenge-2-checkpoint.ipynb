{
 "cells": [
  {
   "cell_type": "markdown",
   "metadata": {},
   "source": [
    "## Challenge 2: Sets\n",
    "\n",
    "There are a lot to learn about Python Sets and the information presented in the lesson is limited due to its length. To learn Python Sets in depth you are strongly encouraged to review the W3Schools tutorial on [Python Sets Examples and Methods](https://www.w3schools.com/python/python_sets.asp) before you work on this lab. Some difficult questions in this lab have their solutions in the W3Schools tutorial.\n",
    "\n",
    "#### First, import the Python `random` library."
   ]
  },
  {
   "cell_type": "code",
   "execution_count": 110,
   "metadata": {},
   "outputs": [],
   "source": [
    "import random"
   ]
  },
  {
   "cell_type": "markdown",
   "metadata": {},
   "source": [
    "#### In the cell below, create a list named `sample_list_1` with 80 random values. \n",
    "\n",
    "Requirements:\n",
    "\n",
    "* Each value is an integer falling between 0 and 100.\n",
    "* Each value in the list is unique.\n",
    "\n",
    "Print `sample_list_1` to review its values\n",
    "\n",
    "*Hint: use `random.sample` ([reference](https://docs.python.org/3/library/random.html#random.sample)).*"
   ]
  },
  {
   "cell_type": "code",
   "execution_count": 111,
   "metadata": {},
   "outputs": [
    {
     "name": "stdout",
     "output_type": "stream",
     "text": [
      "[99, 43, 61, 34, 7, 68, 46, 55, 28, 19, 56, 90, 40, 86, 14, 97, 72, 75, 37, 20, 39, 54, 69, 51, 48, 2, 74, 84, 11, 77, 42, 80, 25, 6, 47, 24, 57, 0, 100, 96, 23, 27, 94, 95, 3, 50, 21, 59, 44, 29, 13, 52, 4, 66, 71, 17, 26, 16, 5, 91, 76, 98, 87, 93, 22, 45, 89, 8, 35, 38, 70, 73, 81, 36, 41, 53, 58, 10, 18, 63]\n"
     ]
    }
   ],
   "source": [
    "# Your code here\n",
    "\n",
    "sample_list_1 = random.sample(range(101), 80)\n",
    "print(sample_list_1)"
   ]
  },
  {
   "cell_type": "markdown",
   "metadata": {},
   "source": [
    "#### Convert `sample_list_1` to a set called `set1`. Print the length of the set. Is its length still 80?"
   ]
  },
  {
   "cell_type": "code",
   "execution_count": 112,
   "metadata": {},
   "outputs": [
    {
     "name": "stdout",
     "output_type": "stream",
     "text": [
      "{0, 2, 3, 4, 5, 6, 7, 8, 10, 11, 13, 14, 16, 17, 18, 19, 20, 21, 22, 23, 24, 25, 26, 27, 28, 29, 34, 35, 36, 37, 38, 39, 40, 41, 42, 43, 44, 45, 46, 47, 48, 50, 51, 52, 53, 54, 55, 56, 57, 58, 59, 61, 63, 66, 68, 69, 70, 71, 72, 73, 74, 75, 76, 77, 80, 81, 84, 86, 87, 89, 90, 91, 93, 94, 95, 96, 97, 98, 99, 100}\n",
      "80\n"
     ]
    }
   ],
   "source": [
    "# Your code here\n",
    "\n",
    "set_1 = set(sample_list_1)\n",
    "print(set_1)\n",
    "print(len(set_1))\n",
    "\n"
   ]
  },
  {
   "cell_type": "markdown",
   "metadata": {},
   "source": [
    "#### Create another list named `sample_list_2` with 80 random values.\n",
    "\n",
    "Requirements:\n",
    "\n",
    "* Each value is an integer falling between 0 and 100.\n",
    "* The values in the list don't have to be unique.\n",
    "\n",
    "*Hint: Use a FOR loop.*"
   ]
  },
  {
   "cell_type": "code",
   "execution_count": 113,
   "metadata": {},
   "outputs": [
    {
     "name": "stdout",
     "output_type": "stream",
     "text": [
      "[55, 90, 78, 8, 49, 99, 83, 94, 22, 60, 94, 97, 53, 59, 87, 43, 9, 99, 49, 54, 46, 91, 90, 77, 93, 96, 26, 65, 24, 33, 52, 32, 64, 85, 87, 77, 21, 12, 9, 81, 38, 90, 93, 44, 94, 18, 68, 60, 23, 58, 50, 87, 17, 16, 31, 43, 8, 97, 97, 99, 45, 55, 80, 14, 6, 63, 79, 12, 17, 25, 58, 22, 41, 47, 97, 86, 13, 59, 16, 59]\n",
      "80\n"
     ]
    }
   ],
   "source": [
    "# Your code here\n",
    "sample_list_2 = [random.randrange(101) for i in range(80)]\n",
    "print(sample_list_2)\n",
    "print(len(sample_list_2))"
   ]
  },
  {
   "cell_type": "markdown",
   "metadata": {},
   "source": [
    "#### Convert `sample_list_2` to a set called `set2`. Print the length of the set. Is its length still 80?"
   ]
  },
  {
   "cell_type": "code",
   "execution_count": 114,
   "metadata": {},
   "outputs": [
    {
     "name": "stdout",
     "output_type": "stream",
     "text": [
      "{1, 2, 4, 9, 10, 11, 13, 16, 17, 18, 20, 21, 22, 25, 26, 27, 28, 34, 35, 36, 37, 38, 43, 45, 46, 47, 48, 49, 51, 54, 55, 56, 57, 62, 65, 70, 75, 76, 78, 79, 80, 82, 85, 86, 87, 88, 90, 92, 93, 95, 96, 97, 99, 100}\n",
      "54\n"
     ]
    }
   ],
   "source": [
    "# Your code here\n",
    "\n",
    "set_2 = set(([random.randrange(101) for i in range(80)]))\n",
    "print(set_2)\n",
    "print(len(set_2))\n",
    "\n",
    "#por ser SET nnao dupica, então tem menos indexes\n"
   ]
  },
  {
   "cell_type": "markdown",
   "metadata": {},
   "source": [
    "#### Identify the elements present in `set1` but not in `set2`. Assign the elements to a new set named `set3`."
   ]
  },
  {
   "cell_type": "code",
   "execution_count": 115,
   "metadata": {},
   "outputs": [
    {
     "name": "stdout",
     "output_type": "stream",
     "text": [
      "{0, 3, 6, 7, 8, 17, 18, 19, 22, 26, 31, 32, 38, 41, 42, 44, 45, 49, 53, 56, 58, 60, 62, 64, 67, 72, 73, 78, 81, 84, 89, 92, 93, 94, 98}\n"
     ]
    }
   ],
   "source": [
    "# Your code here\n",
    "set_1 = {0, 1, 3, 4, 5, 6, 7, 8, 9, 10, 11, 13, 14, 15, 16, 17, 18, 19, 21, 22, 24, 25, 26, 27, 31, 32, 33, 34, 36, 37, 38, 39, 41, 42, 43, 44, 45, 46, 47, 48, 49, 50, 52, 53, 54, 56, 57, 58, 59, 60, 61, 62, 63, 64, 65, 67, 68, 72, 73, 74, 76, 77, 78, 79, 81, 82, 83, 84, 86, 87, 88, 89, 92, 93, 94, 95, 96, 97, 98, 100}\n",
    "set_2 = {1, 4, 5, 9, 10, 11, 13, 14, 15, 16, 21, 23, 24, 25, 27, 29, 33, 34, 35, 36, 37, 39, 40, 43, 46, 47, 48, 50, 52, 54, 57, 59, 61, 63, 65, 66, 68, 69, 70, 74, 76, 77, 79, 80, 82, 83, 86, 87, 88, 90, 91, 95, 96, 97, 99, 100}\n",
    "\n",
    "\n",
    "print(set_1.difference(set_2))\n"
   ]
  },
  {
   "cell_type": "code",
   "execution_count": 116,
   "metadata": {},
   "outputs": [
    {
     "name": "stdout",
     "output_type": "stream",
     "text": [
      "{0, 3, 6, 7, 8, 17, 18, 19, 22, 26, 31, 32, 38, 41, 42, 44, 45, 49, 53, 56, 58, 60, 62, 64, 67, 72, 73, 78, 81, 84, 89, 92, 93, 94, 98}\n",
      "35\n"
     ]
    }
   ],
   "source": [
    "set_3 = ((set_1.difference(set_2)))\n",
    "\n",
    "print(set_3)\n",
    "print(len(set_3))\n"
   ]
  },
  {
   "cell_type": "markdown",
   "metadata": {},
   "source": [
    "#### Identify the elements present in `set2` but not in `set1`. Assign the elements to a new set named `set4`."
   ]
  },
  {
   "cell_type": "code",
   "execution_count": 117,
   "metadata": {},
   "outputs": [
    {
     "name": "stdout",
     "output_type": "stream",
     "text": [
      "{66, 35, 99, 69, 70, 40, 80, 23, 90, 91, 29}\n"
     ]
    }
   ],
   "source": [
    "# Your code here\n",
    "print(set_2.difference(set_1))"
   ]
  },
  {
   "cell_type": "code",
   "execution_count": 118,
   "metadata": {},
   "outputs": [
    {
     "name": "stdout",
     "output_type": "stream",
     "text": [
      "{66, 35, 99, 69, 70, 40, 80, 23, 90, 91, 29}\n",
      "11\n"
     ]
    }
   ],
   "source": [
    "set_4 = ((set_2.difference(set_1)))\n",
    "\n",
    "print(set_4)\n",
    "print(len(set_4))"
   ]
  },
  {
   "cell_type": "markdown",
   "metadata": {},
   "source": [
    "#### Now Identify the elements shared between `set1` and `set2`. Assign the elements to a new set named `set5`."
   ]
  },
  {
   "cell_type": "code",
   "execution_count": 119,
   "metadata": {},
   "outputs": [
    {
     "name": "stdout",
     "output_type": "stream",
     "text": [
      "{1, 4, 5, 9, 10, 11, 13, 14, 15, 16, 21, 24, 25, 27, 33, 34, 36, 37, 39, 43, 46, 47, 48, 50, 52, 54, 57, 59, 61, 63, 65, 68, 74, 76, 77, 79, 82, 83, 86, 87, 88, 95, 96, 97, 100}\n",
      "45\n"
     ]
    }
   ],
   "source": [
    "# Your code here\n",
    "\n",
    "set_5 = ((set_1.intersection(set_2)))\n",
    "\n",
    "print(set_5)\n",
    "print(len(set_5))\n"
   ]
  },
  {
   "cell_type": "markdown",
   "metadata": {},
   "source": [
    "#### What is the relationship among the following values:\n",
    "\n",
    "* len(set1)\n",
    "* len(set2)\n",
    "* len(set3)\n",
    "* len(set4)\n",
    "* len(set5)\n",
    "\n",
    "Use a math formular to represent that relationship. Test your formular with Python code."
   ]
  },
  {
   "cell_type": "code",
   "execution_count": 122,
   "metadata": {},
   "outputs": [
    {
     "name": "stdout",
     "output_type": "stream",
     "text": [
      "set_1 80\n",
      "set_2 56\n",
      "set_3 35\n",
      "set_4 11\n",
      "set_5 45\n",
      "80 34\n",
      "11 11\n"
     ]
    }
   ],
   "source": [
    "# Your code here\n",
    "#len(set3) = len(set1) - len(set5)\n",
    "\n",
    "print('set_1', len(set_1))\n",
    "print('set_2', len(set_2))\n",
    "print('set_3', len(set_3))\n",
    "print('set_4', len(set_4))\n",
    "print('set_5', len(set_5))\n",
    "\n",
    "print(len(set_1), len(set_5) - len(set_4))\n",
    "print(len(set_4), len(set_2) - len(set_5))\n",
    " \n",
    "# DUVIDA"
   ]
  },
  {
   "cell_type": "markdown",
   "metadata": {},
   "source": [
    "#### Create an empty set called `set6`."
   ]
  },
  {
   "cell_type": "code",
   "execution_count": 103,
   "metadata": {},
   "outputs": [
    {
     "name": "stdout",
     "output_type": "stream",
     "text": [
      "set()\n",
      "0\n"
     ]
    }
   ],
   "source": [
    "# Your code here\n",
    "\n",
    "\n",
    "set_6 = set()\n",
    "\n",
    "print(set_6)\n",
    "print(len(set_6))\n"
   ]
  },
  {
   "cell_type": "markdown",
   "metadata": {},
   "source": [
    "#### Add `set3` and `set5` to `set6` using the Python Set `update` method."
   ]
  },
  {
   "cell_type": "code",
   "execution_count": 99,
   "metadata": {},
   "outputs": [
    {
     "name": "stdout",
     "output_type": "stream",
     "text": [
      "{0, 1, 3, 4, 5, 6, 7, 8, 9, 10, 11, 13, 14, 15, 16, 17, 18, 19, 21, 22, 24, 25, 26, 27, 31, 32, 33, 34, 36, 37, 38, 39, 41, 42, 43, 44, 45, 46, 47, 48, 49, 50, 52, 53, 54, 56, 57, 58, 59, 60, 61, 62, 63, 64, 65, 67, 68, 72, 73, 74, 76, 77, 78, 79, 81, 82, 83, 84, 86, 87, 88, 89, 92, 93, 94, 95, 96, 97, 98, 100}\n",
      "80\n"
     ]
    }
   ],
   "source": [
    "# Your code here\n",
    "set_3 = {0, 3, 6, 7, 8, 17, 18, 19, 22, 26, 31, 32, 38, 41, 42, 44, 45, 49, 53, 56, 58, 60, 62, 64, 67, 72, 73, 78, 81, 84, 89, 92, 93, 94, 98}\n",
    "set_5 = {1, 4, 5, 9, 10, 11, 13, 14, 15, 16, 21, 24, 25, 27, 33, 34, 36, 37, 39, 43, 46, 47, 48, 50, 52, 54, 57, 59, 61, 63, 65, 68, 74, 76, 77, 79, 82, 83, 86, 87, 88, 95, 96, 97, 100}\n",
    "\n",
    "\n",
    "set_6 = set_3.update(set_5)\n",
    "\n",
    "print(set_3)\n",
    "print(len(set_3))\n",
    "\n"
   ]
  },
  {
   "cell_type": "code",
   "execution_count": 109,
   "metadata": {},
   "outputs": [
    {
     "name": "stdout",
     "output_type": "stream",
     "text": [
      "{0, 1, 3, 4, 5, 6, 7, 8, 9, 10, 11, 13, 14, 15, 16, 17, 18, 19, 21, 22, 24, 25, 26, 27, 31, 32, 33, 34, 36, 37, 38, 39, 41, 42, 43, 44, 45, 46, 47, 48, 49, 50, 52, 53, 54, 56, 57, 58, 59, 60, 61, 62, 63, 64, 65, 67, 68, 72, 73, 74, 76, 77, 78, 79, 81, 82, 83, 84, 86, 87, 88, 89, 92, 93, 94, 95, 96, 97, 98, 100}\n",
      "80\n"
     ]
    }
   ],
   "source": [
    "\n",
    "set_6.update(set_3)\n",
    "set_6.update(set_5)\n",
    "\n",
    "print(set_6)\n",
    "print(len(set_6))"
   ]
  },
  {
   "cell_type": "markdown",
   "metadata": {},
   "source": [
    "#### Check if `set1` and `set6` are equal."
   ]
  },
  {
   "cell_type": "markdown",
   "metadata": {},
   "source": [
    "#### Check if `set1` contains `set2` using the Python Set `issubset` method. Then check if `set1` contains `set3`.*"
   ]
  },
  {
   "cell_type": "code",
   "execution_count": 68,
   "metadata": {},
   "outputs": [
    {
     "name": "stdout",
     "output_type": "stream",
     "text": [
      "False\n"
     ]
    }
   ],
   "source": [
    "# Your code here\n",
    "set_1 = {0, 1, 3, 4, 5, 6, 7, 8, 9, 10, 11, 13, 14, 15, 16, 17, 18, 19, 21, 22, 24, 25, 26, 27, 31, 32, 33, 34, 36, 37, 38, 39, 41, 42, 43, 44, 45, 46, 47, 48, 49, 50, 52, 53, 54, 56, 57, 58, 59, 60, 61, 62, 63, 64, 65, 67, 68, 72, 73, 74, 76, 77, 78, 79, 81, 82, 83, 84, 86, 87, 88, 89, 92, 93, 94, 95, 96, 97, 98, 100}\n",
    "set_2 = {1, 4, 5, 9, 10, 11, 13, 14, 15, 16, 21, 23, 24, 25, 27, 29, 33, 34, 35, 36, 37, 39, 40, 43, 46, 47, 48, 50, 52, 54, 57, 59, 61, 63, 65, 66, 68, 69, 70, 74, 76, 77, 79, 80, 82, 83, 86, 87, 88, 90, 91, 95, 96, 97, 99, 100}\n",
    "\n",
    "check_1 = set_1.issubset(set_2)\n",
    "\n",
    "print(check_1) "
   ]
  },
  {
   "cell_type": "code",
   "execution_count": 72,
   "metadata": {},
   "outputs": [
    {
     "name": "stdout",
     "output_type": "stream",
     "text": [
      "True\n"
     ]
    }
   ],
   "source": [
    "set_1 = {0, 1, 3, 4, 5, 6, 7, 8, 9, 10, 11, 13, 14, 15, 16, 17, 18, 19, 21, 22, 24, 25, 26, 27, 31, 32, 33, 34, 36, 37, 38, 39, 41, 42, 43, 44, 45, 46, 47, 48, 49, 50, 52, 53, 54, 56, 57, 58, 59, 60, 61, 62, 63, 64, 65, 67, 68, 72, 73, 74, 76, 77, 78, 79, 81, 82, 83, 84, 86, 87, 88, 89, 92, 93, 94, 95, 96, 97, 98, 100}\n",
    "set_3 = {0, 1, 3, 4, 5, 6, 7, 8, 9, 10, 11, 13, 14, 15, 16, 17, 18, 19, 21, 22, 24, 25, 26, 27, 31, 32, 33, 34, 36, 37, 38, 39, 41, 42, 43, 44, 45, 46, 47, 48, 49, 50, 52, 53, 54, 56, 57, 58, 59, 60, 61, 62, 63, 64, 65, 67, 68, 72, 73, 74, 76, 77, 78, 79, 81, 82, 83, 84, 86, 87, 88, 89, 92, 93, 94, 95, 96, 97, 98, 100}\n",
    "#set_3 pós update é maior mesmo\n",
    "\n",
    "check_2 = set_1.issubset(set_3)\n",
    "\n",
    "print(check_2) "
   ]
  },
  {
   "cell_type": "markdown",
   "metadata": {},
   "source": [
    "#### Using the Python Set `union` method, aggregate `set3`, `set4`, and `set5`. Then aggregate `set1` and `set2`. \n",
    "\n",
    "#### Check if the aggregated values are equal."
   ]
  },
  {
   "cell_type": "code",
   "execution_count": 125,
   "metadata": {},
   "outputs": [
    {
     "name": "stdout",
     "output_type": "stream",
     "text": [
      "Union : {0, 1, 3, 4, 5, 6, 7, 8, 9, 10, 11, 13, 14, 15, 16, 17, 18, 19, 21, 22, 23, 24, 25, 26, 27, 29, 31, 32, 33, 34, 35, 36, 37, 38, 39, 40, 41, 42, 43, 44, 45, 46, 47, 48, 49, 50, 52, 53, 54, 56, 57, 58, 59, 60, 61, 62, 63, 64, 65, 66, 67, 68, 69, 70, 72, 73, 74, 76, 77, 78, 79, 80, 81, 82, 83, 84, 86, 87, 88, 89, 90, 91, 92, 93, 94, 95, 96, 97, 98, 99, 100}\n"
     ]
    }
   ],
   "source": [
    "# Your code here\n",
    "\n",
    "print(\"Union :\", set_3 | set_4 | set_5) \n",
    "\n"
   ]
  },
  {
   "cell_type": "code",
   "execution_count": 79,
   "metadata": {},
   "outputs": [
    {
     "name": "stdout",
     "output_type": "stream",
     "text": [
      "Union : {0, 1, 3, 4, 5, 6, 7, 8, 9, 10, 11, 13, 14, 15, 16, 17, 18, 19, 21, 22, 23, 24, 25, 26, 27, 29, 31, 32, 33, 34, 35, 36, 37, 38, 39, 40, 41, 42, 43, 44, 45, 46, 47, 48, 49, 50, 52, 53, 54, 56, 57, 58, 59, 60, 61, 62, 63, 64, 65, 66, 67, 68, 69, 70, 72, 73, 74, 76, 77, 78, 79, 80, 81, 82, 83, 84, 86, 87, 88, 89, 90, 91, 92, 93, 94, 95, 96, 97, 98, 99, 100}\n"
     ]
    }
   ],
   "source": [
    "print(\"Union :\", set_1 | set_2 | set_3 | set_4 | set_5) "
   ]
  },
  {
   "cell_type": "code",
   "execution_count": 81,
   "metadata": {},
   "outputs": [
    {
     "name": "stdout",
     "output_type": "stream",
     "text": [
      "Difference : {0, 3, 6, 7, 8, 17, 18, 19, 22, 26, 31, 32, 38, 41, 42, 44, 45, 49, 53, 56, 58, 60, 62, 64, 67, 72, 73, 78, 81, 84, 89, 92, 93, 94, 98}\n"
     ]
    }
   ],
   "source": [
    "print(\"Difference :\", set_1 - set_2) "
   ]
  },
  {
   "cell_type": "markdown",
   "metadata": {},
   "source": [
    "#### Using the `pop` method, remove the first element from `set1`."
   ]
  },
  {
   "cell_type": "code",
   "execution_count": 83,
   "metadata": {},
   "outputs": [
    {
     "name": "stdout",
     "output_type": "stream",
     "text": [
      "0\n",
      "{1, 3, 4, 5, 6, 7, 8, 9, 10, 11, 13, 14, 15, 16, 17, 18, 19, 21, 22, 24, 25, 26, 27, 31, 32, 33, 34, 36, 37, 38, 39, 41, 42, 43, 44, 45, 46, 47, 48, 49, 50, 52, 53, 54, 56, 57, 58, 59, 60, 61, 62, 63, 64, 65, 67, 68, 72, 73, 74, 76, 77, 78, 79, 81, 82, 83, 84, 86, 87, 88, 89, 92, 93, 94, 95, 96, 97, 98, 100}\n"
     ]
    }
   ],
   "source": [
    "# Your code here\n",
    "\n",
    "# Esse método removerá o último item, os sets são em desordem não dá pra saber qual foi removido, não sei remover o primeiro.\n",
    "#DUVIDA\n",
    "\n",
    "set_1 = {0, 1, 3, 4, 5, 6, 7, 8, 9, 10, 11, 13, 14, 15, 16, 17, 18, 19, 21, 22, 24, 25, 26, 27, 31, 32, 33, 34, 36, 37, 38, 39, 41, 42, 43, 44, 45, 46, 47, 48, 49, 50, 52, 53, 54, 56, 57, 58, 59, 60, 61, 62, 63, 64, 65, 67, 68, 72, 73, 74, 76, 77, 78, 79, 81, 82, 83, 84, 86, 87, 88, 89, 92, 93, 94, 95, 96, 97, 98, 100}\n",
    "\n",
    "x = set_1.pop()\n",
    "print(x)\n",
    "print(set_1)\n"
   ]
  },
  {
   "cell_type": "markdown",
   "metadata": {},
   "source": [
    "#### Remove every element in the following list from `set1` if they are present in the set. Print the remaining elements.\n",
    "\n",
    "```\n",
    "list_to_remove = [1, 9, 11, 19, 21, 29, 31, 39, 41, 49, 51, 59, 61, 69, 71, 79, 81, 89, 91, 99]\n",
    "```"
   ]
  },
  {
   "cell_type": "code",
   "execution_count": 85,
   "metadata": {},
   "outputs": [
    {
     "name": "stdout",
     "output_type": "stream",
     "text": [
      "{3, 4, 5, 6, 7, 8, 10, 13, 14, 15, 16, 17, 18, 22, 24, 25, 26, 27, 32, 33, 34, 36, 37, 38, 42, 43, 44, 45, 46, 47, 48, 50, 52, 53, 54, 56, 57, 58, 60, 62, 63, 64, 65, 67, 68, 72, 73, 74, 76, 77, 78, 82, 83, 84, 86, 87, 88, 92, 93, 94, 95, 96, 97, 98, 100}\n",
      "65\n"
     ]
    }
   ],
   "source": [
    "# Your code here\n",
    "\n",
    "\n",
    "item_set_1 = [1, 3, 4, 5, 6, 7, 8, 9, 10, 11, 13, 14, 15, 16, 17, 18, 19, 21, 22, 24, 25, 26, 27, 31, 32, 33, 34, 36, 37, 38, 39, 41, 42, 43, 44, 45, 46, 47, 48, 49, 50, 52, 53, 54, 56, 57, 58, 59, 60, 61, 62, 63, 64, 65, 67, 68, 72, 73, 74, 76, 77, 78, 79, 81, 82, 83, 84, 86, 87, 88, 89, 92, 93, 94, 95, 96, 97, 98, 100]\n",
    "\n",
    "item_set_1 = set(item_set_1) - {1, 9, 11, 19, 21, 29, 31, 39, 41, 49, 51, 59, 61, 69, 71, 79, 81, 89, 91, 99}\n",
    "\n",
    "\n",
    "print(item_set_1)\n",
    "print(len(item_set_1))"
   ]
  },
  {
   "cell_type": "code",
   "execution_count": null,
   "metadata": {},
   "outputs": [],
   "source": [
    "#Another one bites the dust!"
   ]
  }
 ],
 "metadata": {
  "kernelspec": {
   "display_name": "Python 3",
   "language": "python",
   "name": "python3"
  },
  "language_info": {
   "codemirror_mode": {
    "name": "ipython",
    "version": 3
   },
   "file_extension": ".py",
   "mimetype": "text/x-python",
   "name": "python",
   "nbconvert_exporter": "python",
   "pygments_lexer": "ipython3",
   "version": "3.8.1"
  }
 },
 "nbformat": 4,
 "nbformat_minor": 2
}
