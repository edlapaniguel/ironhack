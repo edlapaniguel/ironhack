{
 "cells": [
  {
   "cell_type": "code",
   "execution_count": 22,
   "metadata": {},
   "outputs": [],
   "source": [
    "import pandas as pd\n",
    "import numpy as np\n"
   ]
  },
  {
   "cell_type": "code",
   "execution_count": 23,
   "metadata": {},
   "outputs": [
    {
     "name": "stdout",
     "output_type": "stream",
     "text": [
      "Requirement already satisfied: unidecode in /Library/Frameworks/Python.framework/Versions/3.8/lib/python3.8/site-packages (1.1.1)\r\n"
     ]
    }
   ],
   "source": [
    "!pip install unidecode"
   ]
  },
  {
   "cell_type": "code",
   "execution_count": 24,
   "metadata": {},
   "outputs": [],
   "source": [
    "import unidecode"
   ]
  },
  {
   "cell_type": "code",
   "execution_count": 25,
   "metadata": {},
   "outputs": [
    {
     "name": "stdout",
     "output_type": "stream",
     "text": [
      "/Users/edlapaniguel/Desktop/ironhack/2.Modulo_1/Projeto_01\r\n"
     ]
    }
   ],
   "source": [
    "!pwd"
   ]
  },
  {
   "cell_type": "code",
   "execution_count": 26,
   "metadata": {},
   "outputs": [],
   "source": [
    "#Responder nº de ataques por local(tem pais, area e localização),sexo(pelo nome da para verificar tbm),atividade, data, tipo, age, fatalidade, tipo de tubarão.\n",
    "#Tirar colunas Unnamed22 e Unnamed23\n",
    "#Tirar linhas com Nan - ate a linha 6301 tem info, da 6302 para o fim  é so NaN. \n",
    "#Tirar coluna nome \n",
    "#Primeiro carreguei TODO o doc pra ver, visual, mesmo\n",
    "#Passei value_counts em todas as colunas, investigação, depois que escolhi apaguei para não pesar muito\n",
    "# usar site da pop de tubaroes no mundo cruzando pais, area e localização com NaN do especie\n",
    "# Sex ajustar a coluna sexo com os que estavam N, .,  lli - F era 12% e M 88%\n",
    "#Years #-1800 - 1800 - 1850 - 1900 - 1950 - 2000 - 2000+ ( nova coluna)"
   ]
  },
  {
   "cell_type": "code",
   "execution_count": 27,
   "metadata": {},
   "outputs": [
    {
     "data": {
      "text/html": [
       "<div>\n",
       "<style scoped>\n",
       "    .dataframe tbody tr th:only-of-type {\n",
       "        vertical-align: middle;\n",
       "    }\n",
       "\n",
       "    .dataframe tbody tr th {\n",
       "        vertical-align: top;\n",
       "    }\n",
       "\n",
       "    .dataframe thead th {\n",
       "        text-align: right;\n",
       "    }\n",
       "</style>\n",
       "<table border=\"1\" class=\"dataframe\">\n",
       "  <thead>\n",
       "    <tr style=\"text-align: right;\">\n",
       "      <th></th>\n",
       "      <th>Case Number</th>\n",
       "      <th>Date</th>\n",
       "      <th>Year</th>\n",
       "      <th>Type</th>\n",
       "      <th>Country</th>\n",
       "      <th>Area</th>\n",
       "      <th>Location</th>\n",
       "      <th>Activity</th>\n",
       "      <th>Name</th>\n",
       "      <th>Sex</th>\n",
       "      <th>...</th>\n",
       "      <th>Species</th>\n",
       "      <th>Investigator or Source</th>\n",
       "      <th>pdf</th>\n",
       "      <th>href formula</th>\n",
       "      <th>href</th>\n",
       "      <th>Case Number.1</th>\n",
       "      <th>Case Number.2</th>\n",
       "      <th>original order</th>\n",
       "      <th>Unnamed: 22</th>\n",
       "      <th>Unnamed: 23</th>\n",
       "    </tr>\n",
       "  </thead>\n",
       "  <tbody>\n",
       "    <tr>\n",
       "      <th>0</th>\n",
       "      <td>2018.06.25</td>\n",
       "      <td>25-Jun-2018</td>\n",
       "      <td>2018.0</td>\n",
       "      <td>Boating</td>\n",
       "      <td>USA</td>\n",
       "      <td>California</td>\n",
       "      <td>Oceanside, San Diego County</td>\n",
       "      <td>Paddling</td>\n",
       "      <td>Julie Wolfe</td>\n",
       "      <td>F</td>\n",
       "      <td>...</td>\n",
       "      <td>White shark</td>\n",
       "      <td>R. Collier, GSAF</td>\n",
       "      <td>2018.06.25-Wolfe.pdf</td>\n",
       "      <td>http://sharkattackfile.net/spreadsheets/pdf_di...</td>\n",
       "      <td>http://sharkattackfile.net/spreadsheets/pdf_di...</td>\n",
       "      <td>2018.06.25</td>\n",
       "      <td>2018.06.25</td>\n",
       "      <td>6303.0</td>\n",
       "      <td>NaN</td>\n",
       "      <td>NaN</td>\n",
       "    </tr>\n",
       "    <tr>\n",
       "      <th>1</th>\n",
       "      <td>2018.06.18</td>\n",
       "      <td>18-Jun-2018</td>\n",
       "      <td>2018.0</td>\n",
       "      <td>Unprovoked</td>\n",
       "      <td>USA</td>\n",
       "      <td>Georgia</td>\n",
       "      <td>St. Simon Island, Glynn County</td>\n",
       "      <td>Standing</td>\n",
       "      <td>Adyson McNeely</td>\n",
       "      <td>F</td>\n",
       "      <td>...</td>\n",
       "      <td>NaN</td>\n",
       "      <td>K.McMurray, TrackingSharks.com</td>\n",
       "      <td>2018.06.18-McNeely.pdf</td>\n",
       "      <td>http://sharkattackfile.net/spreadsheets/pdf_di...</td>\n",
       "      <td>http://sharkattackfile.net/spreadsheets/pdf_di...</td>\n",
       "      <td>2018.06.18</td>\n",
       "      <td>2018.06.18</td>\n",
       "      <td>6302.0</td>\n",
       "      <td>NaN</td>\n",
       "      <td>NaN</td>\n",
       "    </tr>\n",
       "    <tr>\n",
       "      <th>2</th>\n",
       "      <td>2018.06.09</td>\n",
       "      <td>09-Jun-2018</td>\n",
       "      <td>2018.0</td>\n",
       "      <td>Invalid</td>\n",
       "      <td>USA</td>\n",
       "      <td>Hawaii</td>\n",
       "      <td>Habush, Oahu</td>\n",
       "      <td>Surfing</td>\n",
       "      <td>John Denges</td>\n",
       "      <td>M</td>\n",
       "      <td>...</td>\n",
       "      <td>NaN</td>\n",
       "      <td>K.McMurray, TrackingSharks.com</td>\n",
       "      <td>2018.06.09-Denges.pdf</td>\n",
       "      <td>http://sharkattackfile.net/spreadsheets/pdf_di...</td>\n",
       "      <td>http://sharkattackfile.net/spreadsheets/pdf_di...</td>\n",
       "      <td>2018.06.09</td>\n",
       "      <td>2018.06.09</td>\n",
       "      <td>6301.0</td>\n",
       "      <td>NaN</td>\n",
       "      <td>NaN</td>\n",
       "    </tr>\n",
       "    <tr>\n",
       "      <th>3</th>\n",
       "      <td>2018.06.08</td>\n",
       "      <td>08-Jun-2018</td>\n",
       "      <td>2018.0</td>\n",
       "      <td>Unprovoked</td>\n",
       "      <td>AUSTRALIA</td>\n",
       "      <td>New South Wales</td>\n",
       "      <td>Arrawarra Headland</td>\n",
       "      <td>Surfing</td>\n",
       "      <td>male</td>\n",
       "      <td>M</td>\n",
       "      <td>...</td>\n",
       "      <td>2 m shark</td>\n",
       "      <td>B. Myatt, GSAF</td>\n",
       "      <td>2018.06.08-Arrawarra.pdf</td>\n",
       "      <td>http://sharkattackfile.net/spreadsheets/pdf_di...</td>\n",
       "      <td>http://sharkattackfile.net/spreadsheets/pdf_di...</td>\n",
       "      <td>2018.06.08</td>\n",
       "      <td>2018.06.08</td>\n",
       "      <td>6300.0</td>\n",
       "      <td>NaN</td>\n",
       "      <td>NaN</td>\n",
       "    </tr>\n",
       "    <tr>\n",
       "      <th>4</th>\n",
       "      <td>2018.06.04</td>\n",
       "      <td>04-Jun-2018</td>\n",
       "      <td>2018.0</td>\n",
       "      <td>Provoked</td>\n",
       "      <td>MEXICO</td>\n",
       "      <td>Colima</td>\n",
       "      <td>La Ticla</td>\n",
       "      <td>Free diving</td>\n",
       "      <td>Gustavo Ramos</td>\n",
       "      <td>M</td>\n",
       "      <td>...</td>\n",
       "      <td>Tiger shark, 3m</td>\n",
       "      <td>A .Kipper</td>\n",
       "      <td>2018.06.04-Ramos.pdf</td>\n",
       "      <td>http://sharkattackfile.net/spreadsheets/pdf_di...</td>\n",
       "      <td>http://sharkattackfile.net/spreadsheets/pdf_di...</td>\n",
       "      <td>2018.06.04</td>\n",
       "      <td>2018.06.04</td>\n",
       "      <td>6299.0</td>\n",
       "      <td>NaN</td>\n",
       "      <td>NaN</td>\n",
       "    </tr>\n",
       "  </tbody>\n",
       "</table>\n",
       "<p>5 rows × 24 columns</p>\n",
       "</div>"
      ],
      "text/plain": [
       "  Case Number         Date    Year        Type    Country             Area  \\\n",
       "0  2018.06.25  25-Jun-2018  2018.0     Boating        USA       California   \n",
       "1  2018.06.18  18-Jun-2018  2018.0  Unprovoked        USA          Georgia   \n",
       "2  2018.06.09  09-Jun-2018  2018.0     Invalid        USA           Hawaii   \n",
       "3  2018.06.08  08-Jun-2018  2018.0  Unprovoked  AUSTRALIA  New South Wales   \n",
       "4  2018.06.04  04-Jun-2018  2018.0    Provoked     MEXICO           Colima   \n",
       "\n",
       "                         Location     Activity             Name Sex   ...  \\\n",
       "0     Oceanside, San Diego County     Paddling      Julie Wolfe    F  ...   \n",
       "1  St. Simon Island, Glynn County     Standing  Adyson McNeely     F  ...   \n",
       "2                    Habush, Oahu      Surfing      John Denges    M  ...   \n",
       "3              Arrawarra Headland      Surfing             male    M  ...   \n",
       "4                        La Ticla  Free diving   Gustavo Ramos     M  ...   \n",
       "\n",
       "          Species           Investigator or Source                       pdf  \\\n",
       "0      White shark                R. Collier, GSAF      2018.06.25-Wolfe.pdf   \n",
       "1              NaN  K.McMurray, TrackingSharks.com    2018.06.18-McNeely.pdf   \n",
       "2              NaN  K.McMurray, TrackingSharks.com     2018.06.09-Denges.pdf   \n",
       "3        2 m shark                  B. Myatt, GSAF  2018.06.08-Arrawarra.pdf   \n",
       "4  Tiger shark, 3m                       A .Kipper      2018.06.04-Ramos.pdf   \n",
       "\n",
       "                                        href formula  \\\n",
       "0  http://sharkattackfile.net/spreadsheets/pdf_di...   \n",
       "1  http://sharkattackfile.net/spreadsheets/pdf_di...   \n",
       "2  http://sharkattackfile.net/spreadsheets/pdf_di...   \n",
       "3  http://sharkattackfile.net/spreadsheets/pdf_di...   \n",
       "4  http://sharkattackfile.net/spreadsheets/pdf_di...   \n",
       "\n",
       "                                                href Case Number.1  \\\n",
       "0  http://sharkattackfile.net/spreadsheets/pdf_di...    2018.06.25   \n",
       "1  http://sharkattackfile.net/spreadsheets/pdf_di...    2018.06.18   \n",
       "2  http://sharkattackfile.net/spreadsheets/pdf_di...    2018.06.09   \n",
       "3  http://sharkattackfile.net/spreadsheets/pdf_di...    2018.06.08   \n",
       "4  http://sharkattackfile.net/spreadsheets/pdf_di...    2018.06.04   \n",
       "\n",
       "  Case Number.2 original order Unnamed: 22 Unnamed: 23  \n",
       "0    2018.06.25         6303.0         NaN         NaN  \n",
       "1    2018.06.18         6302.0         NaN         NaN  \n",
       "2    2018.06.09         6301.0         NaN         NaN  \n",
       "3    2018.06.08         6300.0         NaN         NaN  \n",
       "4    2018.06.04         6299.0         NaN         NaN  \n",
       "\n",
       "[5 rows x 24 columns]"
      ]
     },
     "execution_count": 27,
     "metadata": {},
     "output_type": "execute_result"
    }
   ],
   "source": [
    "attacks = pd.read_csv('attacks.csv', encoding=\"ISO-8859-1\")\n",
    "attacks.head()"
   ]
  },
  {
   "cell_type": "code",
   "execution_count": 28,
   "metadata": {},
   "outputs": [
    {
     "name": "stdout",
     "output_type": "stream",
     "text": [
      "<class 'pandas.core.frame.DataFrame'>\n",
      "RangeIndex: 25723 entries, 0 to 25722\n",
      "Data columns (total 24 columns):\n",
      " #   Column                  Non-Null Count  Dtype  \n",
      "---  ------                  --------------  -----  \n",
      " 0   Case Number             8702 non-null   object \n",
      " 1   Date                    6302 non-null   object \n",
      " 2   Year                    6300 non-null   float64\n",
      " 3   Type                    6298 non-null   object \n",
      " 4   Country                 6252 non-null   object \n",
      " 5   Area                    5847 non-null   object \n",
      " 6   Location                5762 non-null   object \n",
      " 7   Activity                5758 non-null   object \n",
      " 8   Name                    6092 non-null   object \n",
      " 9   Sex                     5737 non-null   object \n",
      " 10  Age                     3471 non-null   object \n",
      " 11  Injury                  6274 non-null   object \n",
      " 12  Fatal (Y/N)             5763 non-null   object \n",
      " 13  Time                    2948 non-null   object \n",
      " 14  Species                 3464 non-null   object \n",
      " 15  Investigator or Source  6285 non-null   object \n",
      " 16  pdf                     6302 non-null   object \n",
      " 17  href formula            6301 non-null   object \n",
      " 18  href                    6302 non-null   object \n",
      " 19  Case Number.1           6302 non-null   object \n",
      " 20  Case Number.2           6302 non-null   object \n",
      " 21  original order          6309 non-null   float64\n",
      " 22  Unnamed: 22             1 non-null      object \n",
      " 23  Unnamed: 23             2 non-null      object \n",
      "dtypes: float64(2), object(22)\n",
      "memory usage: 4.7+ MB\n"
     ]
    }
   ],
   "source": [
    "attacks.info()\n",
    "#tras as linhas preenchidas, as não nulas, NaN"
   ]
  },
  {
   "cell_type": "code",
   "execution_count": 29,
   "metadata": {},
   "outputs": [
    {
     "data": {
      "text/plain": [
       "Case Number               17021\n",
       "Date                      19421\n",
       "Year                      19423\n",
       "Type                      19425\n",
       "Country                   19471\n",
       "Area                      19876\n",
       "Location                  19961\n",
       "Activity                  19965\n",
       "Name                      19631\n",
       "Sex                       19986\n",
       "Age                       22252\n",
       "Injury                    19449\n",
       "Fatal (Y/N)               19960\n",
       "Time                      22775\n",
       "Species                   22259\n",
       "Investigator or Source    19438\n",
       "pdf                       19421\n",
       "href formula              19422\n",
       "href                      19421\n",
       "Case Number.1             19421\n",
       "Case Number.2             19421\n",
       "original order            19414\n",
       "Unnamed: 22               25722\n",
       "Unnamed: 23               25721\n",
       "dtype: int64"
      ]
     },
     "execution_count": 29,
     "metadata": {},
     "output_type": "execute_result"
    }
   ],
   "source": [
    "attacks.isnull().sum()\n",
    "# a soma de linhas nulas pra cada coluna, as NaN"
   ]
  },
  {
   "cell_type": "code",
   "execution_count": 30,
   "metadata": {},
   "outputs": [],
   "source": [
    "df_bkp = attacks.copy()"
   ]
  },
  {
   "cell_type": "code",
   "execution_count": 31,
   "metadata": {},
   "outputs": [
    {
     "data": {
      "text/plain": [
       "(8703, 24)"
      ]
     },
     "execution_count": 31,
     "metadata": {},
     "output_type": "execute_result"
    }
   ],
   "source": [
    "attacks.dropna(how='all', inplace=True) \n",
    "attacks.shape"
   ]
  },
  {
   "cell_type": "code",
   "execution_count": 32,
   "metadata": {},
   "outputs": [
    {
     "data": {
      "text/plain": [
       "Index(['Case Number', 'Date', 'Year', 'Type', 'Country', 'Area', 'Location',\n",
       "       'Activity', 'Name', 'Sex ', 'Age', 'Injury', 'Fatal (Y/N)', 'Time',\n",
       "       'Species ', 'Investigator or Source', 'pdf', 'href formula', 'href',\n",
       "       'Case Number.1', 'Case Number.2', 'original order', 'Unnamed: 22',\n",
       "       'Unnamed: 23'],\n",
       "      dtype='object')"
      ]
     },
     "execution_count": 32,
     "metadata": {},
     "output_type": "execute_result"
    }
   ],
   "source": [
    "attacks.columns"
   ]
  },
  {
   "cell_type": "code",
   "execution_count": 33,
   "metadata": {},
   "outputs": [],
   "source": [
    "attacks.columns = [column.lower() for column in attacks.columns]\n",
    "attacks.columns = [column.replace(' ','_') for column in attacks.columns]\n"
   ]
  },
  {
   "cell_type": "code",
   "execution_count": 34,
   "metadata": {},
   "outputs": [],
   "source": [
    "attacks.rename(columns={'sex_': 'sex', 'species_':'species'}, inplace=True)\n"
   ]
  },
  {
   "cell_type": "code",
   "execution_count": 35,
   "metadata": {},
   "outputs": [
    {
     "data": {
      "text/plain": [
       "Index(['case_number', 'date', 'year', 'type', 'country', 'area', 'location',\n",
       "       'activity', 'name', 'sex', 'age', 'injury', 'fatal_(y/n)', 'time',\n",
       "       'species', 'investigator_or_source', 'pdf', 'href_formula', 'href',\n",
       "       'case_number.1', 'case_number.2', 'original_order', 'unnamed:_22',\n",
       "       'unnamed:_23'],\n",
       "      dtype='object')"
      ]
     },
     "execution_count": 35,
     "metadata": {},
     "output_type": "execute_result"
    }
   ],
   "source": [
    "attacks.columns"
   ]
  },
  {
   "cell_type": "code",
   "execution_count": 36,
   "metadata": {},
   "outputs": [],
   "source": [
    "attacks.drop(columns=['unnamed:_22','unnamed:_23'], inplace=True)\n"
   ]
  },
  {
   "cell_type": "code",
   "execution_count": 37,
   "metadata": {},
   "outputs": [
    {
     "data": {
      "text/plain": [
       "Index(['case_number', 'date', 'year', 'type', 'country', 'area', 'location',\n",
       "       'activity', 'name', 'sex', 'age', 'injury', 'fatal_(y/n)', 'time',\n",
       "       'species', 'investigator_or_source', 'pdf', 'href_formula', 'href',\n",
       "       'case_number.1', 'case_number.2', 'original_order'],\n",
       "      dtype='object')"
      ]
     },
     "execution_count": 37,
     "metadata": {},
     "output_type": "execute_result"
    }
   ],
   "source": [
    "attacks.columns\n"
   ]
  },
  {
   "cell_type": "code",
   "execution_count": 38,
   "metadata": {},
   "outputs": [],
   "source": [
    "attacks.drop(columns=['case_number', 'name','injury','investigator_or_source', 'pdf', 'href_formula', 'href', 'case_number.1', 'case_number.2', 'original_order'], inplace=True)\n"
   ]
  },
  {
   "cell_type": "code",
   "execution_count": 99,
   "metadata": {
    "scrolled": false
   },
   "outputs": [
    {
     "data": {
      "text/html": [
       "<div>\n",
       "<style scoped>\n",
       "    .dataframe tbody tr th:only-of-type {\n",
       "        vertical-align: middle;\n",
       "    }\n",
       "\n",
       "    .dataframe tbody tr th {\n",
       "        vertical-align: top;\n",
       "    }\n",
       "\n",
       "    .dataframe thead th {\n",
       "        text-align: right;\n",
       "    }\n",
       "</style>\n",
       "<table border=\"1\" class=\"dataframe\">\n",
       "  <thead>\n",
       "    <tr style=\"text-align: right;\">\n",
       "      <th></th>\n",
       "      <th>date</th>\n",
       "      <th>year</th>\n",
       "      <th>type</th>\n",
       "      <th>country</th>\n",
       "      <th>area</th>\n",
       "      <th>location</th>\n",
       "      <th>activity</th>\n",
       "      <th>sex</th>\n",
       "      <th>age</th>\n",
       "      <th>fatal_(y/n)</th>\n",
       "      <th>time</th>\n",
       "      <th>species</th>\n",
       "      <th>data_clusters</th>\n",
       "    </tr>\n",
       "  </thead>\n",
       "  <tbody>\n",
       "    <tr>\n",
       "      <th>0</th>\n",
       "      <td>25-Jun-2018</td>\n",
       "      <td>2018.0</td>\n",
       "      <td>UNKNOWN</td>\n",
       "      <td>USA</td>\n",
       "      <td>California</td>\n",
       "      <td>Oceanside, San Diego County</td>\n",
       "      <td>Paddling</td>\n",
       "      <td>F</td>\n",
       "      <td>57</td>\n",
       "      <td>N</td>\n",
       "      <td>18h00</td>\n",
       "      <td>White shark</td>\n",
       "      <td>1.0</td>\n",
       "    </tr>\n",
       "    <tr>\n",
       "      <th>1</th>\n",
       "      <td>18-Jun-2018</td>\n",
       "      <td>2018.0</td>\n",
       "      <td>UNPROVOKED</td>\n",
       "      <td>USA</td>\n",
       "      <td>Georgia</td>\n",
       "      <td>St. Simon Island, Glynn County</td>\n",
       "      <td>Standing</td>\n",
       "      <td>F</td>\n",
       "      <td>11</td>\n",
       "      <td>N</td>\n",
       "      <td>14h00  -15h00</td>\n",
       "      <td>NaN</td>\n",
       "      <td>1.0</td>\n",
       "    </tr>\n",
       "    <tr>\n",
       "      <th>2</th>\n",
       "      <td>09-Jun-2018</td>\n",
       "      <td>2018.0</td>\n",
       "      <td>UNKNOWN</td>\n",
       "      <td>USA</td>\n",
       "      <td>Hawaii</td>\n",
       "      <td>Habush, Oahu</td>\n",
       "      <td>Surfing</td>\n",
       "      <td>M</td>\n",
       "      <td>48</td>\n",
       "      <td>N</td>\n",
       "      <td>07h45</td>\n",
       "      <td>NaN</td>\n",
       "      <td>1.0</td>\n",
       "    </tr>\n",
       "    <tr>\n",
       "      <th>3</th>\n",
       "      <td>08-Jun-2018</td>\n",
       "      <td>2018.0</td>\n",
       "      <td>UNPROVOKED</td>\n",
       "      <td>AUSTRALIA</td>\n",
       "      <td>New South Wales</td>\n",
       "      <td>Arrawarra Headland</td>\n",
       "      <td>Surfing</td>\n",
       "      <td>M</td>\n",
       "      <td>NaN</td>\n",
       "      <td>N</td>\n",
       "      <td>NaN</td>\n",
       "      <td>2 m shark</td>\n",
       "      <td>1.0</td>\n",
       "    </tr>\n",
       "    <tr>\n",
       "      <th>4</th>\n",
       "      <td>04-Jun-2018</td>\n",
       "      <td>2018.0</td>\n",
       "      <td>PROVOKED</td>\n",
       "      <td>MEXICO</td>\n",
       "      <td>Colima</td>\n",
       "      <td>La Ticla</td>\n",
       "      <td>Free diving</td>\n",
       "      <td>M</td>\n",
       "      <td>NaN</td>\n",
       "      <td>N</td>\n",
       "      <td>NaN</td>\n",
       "      <td>Tiger shark, 3m</td>\n",
       "      <td>1.0</td>\n",
       "    </tr>\n",
       "  </tbody>\n",
       "</table>\n",
       "</div>"
      ],
      "text/plain": [
       "          date    year        type    country             area  \\\n",
       "0  25-Jun-2018  2018.0     UNKNOWN        USA       California   \n",
       "1  18-Jun-2018  2018.0  UNPROVOKED        USA          Georgia   \n",
       "2  09-Jun-2018  2018.0     UNKNOWN        USA           Hawaii   \n",
       "3  08-Jun-2018  2018.0  UNPROVOKED  AUSTRALIA  New South Wales   \n",
       "4  04-Jun-2018  2018.0    PROVOKED     MEXICO           Colima   \n",
       "\n",
       "                         location     activity sex  age fatal_(y/n)  \\\n",
       "0     Oceanside, San Diego County     Paddling   F   57           N   \n",
       "1  St. Simon Island, Glynn County     Standing   F   11           N   \n",
       "2                    Habush, Oahu      Surfing   M   48           N   \n",
       "3              Arrawarra Headland      Surfing   M  NaN           N   \n",
       "4                        La Ticla  Free diving   M  NaN           N   \n",
       "\n",
       "            time          species  data_clusters  \n",
       "0          18h00      White shark            1.0  \n",
       "1  14h00  -15h00              NaN            1.0  \n",
       "2          07h45              NaN            1.0  \n",
       "3            NaN        2 m shark            1.0  \n",
       "4            NaN  Tiger shark, 3m            1.0  "
      ]
     },
     "execution_count": 99,
     "metadata": {},
     "output_type": "execute_result"
    }
   ],
   "source": [
    "attacks.head()\n"
   ]
  },
  {
   "cell_type": "code",
   "execution_count": 40,
   "metadata": {},
   "outputs": [
    {
     "data": {
      "text/plain": [
       "Index(['date', 'year', 'type', 'country', 'area', 'location', 'activity',\n",
       "       'sex', 'age', 'fatal_(y/n)', 'time', 'species'],\n",
       "      dtype='object')"
      ]
     },
     "execution_count": 40,
     "metadata": {},
     "output_type": "execute_result"
    }
   ],
   "source": [
    "attacks.columns\n"
   ]
  },
  {
   "cell_type": "code",
   "execution_count": 48,
   "metadata": {},
   "outputs": [
    {
     "data": {
      "text/plain": [
       "M    5099\n",
       "F     638\n",
       "Name: sex, dtype: int64"
      ]
     },
     "execution_count": 48,
     "metadata": {},
     "output_type": "execute_result"
    }
   ],
   "source": [
    "attacks['sex'].value_counts()\n"
   ]
  },
  {
   "cell_type": "code",
   "execution_count": 42,
   "metadata": {},
   "outputs": [],
   "source": [
    "attacks['sex'].replace('N','M', inplace=True)"
   ]
  },
  {
   "cell_type": "code",
   "execution_count": 43,
   "metadata": {},
   "outputs": [],
   "source": [
    "attacks['sex'].replace('lli','F', inplace=True)"
   ]
  },
  {
   "cell_type": "code",
   "execution_count": 44,
   "metadata": {},
   "outputs": [],
   "source": [
    "attacks['sex'].replace('M ','M', inplace=True)"
   ]
  },
  {
   "cell_type": "code",
   "execution_count": 45,
   "metadata": {},
   "outputs": [],
   "source": [
    "attacks['sex'].replace('.','M', inplace=True)"
   ]
  },
  {
   "cell_type": "code",
   "execution_count": 46,
   "metadata": {},
   "outputs": [
    {
     "data": {
      "text/plain": [
       "5737"
      ]
     },
     "execution_count": 46,
     "metadata": {},
     "output_type": "execute_result"
    }
   ],
   "source": [
    "attacks['sex'].value_counts().sum()\n",
    "#5737 preenchidos, com valor"
   ]
  },
  {
   "cell_type": "code",
   "execution_count": 47,
   "metadata": {},
   "outputs": [
    {
     "data": {
      "text/plain": [
       "2966"
      ]
     },
     "execution_count": 47,
     "metadata": {},
     "output_type": "execute_result"
    }
   ],
   "source": [
    "attacks['sex'].isnull().sum()\n",
    "#2966 sem valor, NaN"
   ]
  },
  {
   "cell_type": "code",
   "execution_count": 67,
   "metadata": {
    "scrolled": true
   },
   "outputs": [
    {
     "data": {
      "text/plain": [
       "USA                               2229\n",
       "AUSTRALIA                         1338\n",
       "SOUTH AFRICA                       579\n",
       "PAPUA NEW GUINEA                   134\n",
       "NEW ZEALAND                        128\n",
       "BRAZIL                             112\n",
       "BAHAMAS                            109\n",
       "MEXICO                              89\n",
       "ITALY                               71\n",
       "FIJI                                65\n",
       "PHILIPPINES                         62\n",
       "REUNION                             60\n",
       "NEW CALEDONIA                       53\n",
       "CUBA                                46\n",
       "MOZAMBIQUE                          45\n",
       "SPAIN                               44\n",
       "INDIA                               40\n",
       "EGYPT                               38\n",
       "JAPAN                               34\n",
       "CROATIA                             34\n",
       "PANAMA                              32\n",
       "SOLOMON ISLANDS                     30\n",
       "IRAN                                29\n",
       "JAMAICA                             27\n",
       "GREECE                              25\n",
       "FRENCH POLYNESIA                    25\n",
       "HONG KONG                           24\n",
       "INDONESIA                           23\n",
       "ENGLAND                             23\n",
       "TONGA                               18\n",
       "ATLANTIC OCEAN                      17\n",
       "COSTA RICA                          17\n",
       "PACIFIC OCEAN                       17\n",
       "BERMUDA                             16\n",
       "UNKNOWN                             16\n",
       "VIETNAM                             15\n",
       "VANUATU                             14\n",
       "SRI LANKA                           14\n",
       "MARSHALL ISLANDS                    13\n",
       "FRANCE                              13\n",
       "CANADA                              12\n",
       "SOUTH ATLANTIC OCEAN                12\n",
       "TURKEY                              12\n",
       "IRAQ                                12\n",
       "VENEZUELA                           11\n",
       "SENEGAL                             11\n",
       "UNITED KINGDOM                      11\n",
       "NEW GUINEA                          10\n",
       "KENYA                               10\n",
       "MAURITIUS                           10\n",
       "COLUMBIA                             9\n",
       "ECUADOR                              9\n",
       "SIERRA LEONE                         9\n",
       "TAIWAN                               9\n",
       "SOUTH KOREA                          8\n",
       "SAMOA                                8\n",
       "THAILAND                             8\n",
       "SCOTLAND                             8\n",
       "CHILE                                8\n",
       "TANZANIA                             8\n",
       "MADAGASCAR                           8\n",
       "CARIBBEAN SEA                        8\n",
       "SEYCHELLES                           8\n",
       "NORTH PACIFIC OCEAN                  7\n",
       "DOMINICAN REPUBLIC                   7\n",
       "INDIAN OCEAN                         7\n",
       "CHINA                                7\n",
       "ISRAEL                               7\n",
       "YEMEN                                7\n",
       "SOMALIA                              6\n",
       "SINGAPORE                            6\n",
       "NEW BRITAIN                          6\n",
       "OKINAWA                              6\n",
       "KIRIBATI                             6\n",
       "BARBADOS                             6\n",
       "NICARAGUA                            6\n",
       "LIBYA                                6\n",
       "PALAU                                5\n",
       "MALTA                                5\n",
       "MALAYSIA                             5\n",
       "AZORES                               5\n",
       "TURKS & CAICOS                       5\n",
       "MID ATLANTIC OCEAN                   5\n",
       "SAUDI ARABIA                         5\n",
       "GUAM                                 4\n",
       "EL SALVADOR                          4\n",
       "PERSIAN GULF                         4\n",
       "NIGERIA                              4\n",
       "BURMA                                4\n",
       "HONDURAS                             4\n",
       "NORTH ATLANTIC OCEAN                 4\n",
       "GRENADA                              4\n",
       "RUSSIA                               4\n",
       "URUGUAY                              4\n",
       "SUDAN                                4\n",
       "AMERICAN SAMOA                       3\n",
       "LIBERIA                              3\n",
       "MONTENEGRO                           3\n",
       "MARTINIQUE                           3\n",
       "LEBANON                              3\n",
       "CEYLON                               3\n",
       "MICRONESIA                           3\n",
       "HAITI                                3\n",
       "TRINIDAD & TOBAGO                    3\n",
       "GUYANA                               3\n",
       "GUINEA                               3\n",
       "TUNISIA                              3\n",
       "BELIZE                               3\n",
       "CAPE VERDE                           3\n",
       "PORTUGAL                             3\n",
       "SOUTHWEST PACIFIC OCEAN              2\n",
       "EGYPT                                2\n",
       "CENTRAL PACIFIC                      2\n",
       "WEST INDIES                          2\n",
       "ANTIGUA                              2\n",
       "UNITED ARAB EMIRATES (UAE)           2\n",
       "ICELAND                              2\n",
       "NAMIBIA                              2\n",
       "PACIFIC OCEAN                        2\n",
       "JOHNSTON ISLAND                      2\n",
       "SOUTH PACIFIC OCEAN                  2\n",
       "CAYMAN ISLANDS                       2\n",
       "YEMEN                                2\n",
       "CRETE                                2\n",
       "TOBAGO                               2\n",
       "NORWAY                               2\n",
       "UNITED ARAB EMIRATES                 2\n",
       "MEDITERRANEAN SEA                    2\n",
       "RED SEA                              1\n",
       "NORTH SEA                            1\n",
       "JAVA                                 1\n",
       "SYRIA                                1\n",
       "COAST OF AFRICA                      1\n",
       "SLOVENIA                             1\n",
       "ARUBA                                1\n",
       "GHANA                                1\n",
       "MONACO                               1\n",
       "BAHREIN                              1\n",
       "GULF OF ADEN                         1\n",
       "NETHERLANDS ANTILLES                 1\n",
       "SAN DOMINGO                          1\n",
       "BANGLADESH                           1\n",
       "BRITISH VIRGIN ISLANDS               1\n",
       "GABON                                1\n",
       "MEXICO                               1\n",
       "MALDIVE ISLANDS                      1\n",
       "NORTH ATLANTIC OCEAN                 1\n",
       "GRAND CAYMAN                         1\n",
       "CURACAO                              1\n",
       "IRELAND                              1\n",
       "PARAGUAY                             1\n",
       "ST. MARTIN                           1\n",
       "PERU                                 1\n",
       "COMOROS                              1\n",
       "PALESTINIAN TERRITORIES              1\n",
       "MAYOTTE                              1\n",
       "GREENLAND                            1\n",
       "CYPRUS                               1\n",
       "BRITISH ISLES                        1\n",
       "ADMIRALTY ISLANDS                    1\n",
       "THE BALKANS                          1\n",
       "BRITISH WEST INDIES                  1\n",
       "BRITISH NEW GUINEA                   1\n",
       "AFRICA                               1\n",
       "CEYLON (SRI LANKA)                   1\n",
       "REUNION ISLAND                       1\n",
       "GUATEMALA                            1\n",
       "KOREA                                1\n",
       "KUWAIT                               1\n",
       "MALDIVES                             1\n",
       "SOUTH CHINA SEA                      1\n",
       "PUERTO RICO                          1\n",
       "COOK ISLANDS                         1\n",
       "NORTHERN ARABIAN SEA                 1\n",
       "FALKLAND ISLANDS                     1\n",
       "SWEDEN                               1\n",
       "ANDAMAN ISLANDS                      1\n",
       "TASMAN SEA                           1\n",
       "ST. MAARTIN                          1\n",
       "FEDERATED STATES OF MICRONESIA       1\n",
       "BAY OF BENGAL                        1\n",
       "NICARAGUA                            1\n",
       "ROATAN                               1\n",
       "ALGERIA                              1\n",
       "DJIBOUTI                             1\n",
       "MID-PACIFC OCEAN                     1\n",
       "ARGENTINA                            1\n",
       "NEVIS                                1\n",
       "ANGOLA                               1\n",
       "NORTHERN MARIANA ISLANDS             1\n",
       "TUVALU                               1\n",
       "WESTERN SAMOA                        1\n",
       "GEORGIA                              1\n",
       "Name: country, dtype: int64"
      ]
     },
     "execution_count": 67,
     "metadata": {},
     "output_type": "execute_result"
    }
   ],
   "source": [
    "attacks['country'].value_counts()"
   ]
  },
  {
   "cell_type": "code",
   "execution_count": 61,
   "metadata": {},
   "outputs": [
    {
     "data": {
      "text/plain": [
       "2451"
      ]
     },
     "execution_count": 61,
     "metadata": {},
     "output_type": "execute_result"
    }
   ],
   "source": [
    "attacks['country'].isnull().sum()\n",
    "#2451"
   ]
  },
  {
   "cell_type": "code",
   "execution_count": 66,
   "metadata": {},
   "outputs": [],
   "source": [
    "# attacks['country'].replace(' TONGA','TONGA', inplace=True)\n",
    "attacks['country'].replace('RED SEA / INDIAN OCEAN','UNKNOWN', inplace=True)\n",
    "attacks['country'].replace('RED SEA?','UNKNOWN', inplace=True)\n",
    "attacks['country'].replace('INDIAN OCEAN?','UNKNOWN', inplace=True)\n",
    "attacks['country'].replace('ASIA?','UNKNOWN', inplace=True)\n",
    "attacks['country'].replace('SOLOMON ISLANDS / VANUATU','UNKNOWN', inplace=True)\n",
    "attacks['country'].replace('ANDAMAN / NICOBAR ISLANDAS','UNKNOWN', inplace=True)\n",
    "attacks['country'].replace('EGYPT / ISRAEL','UNKNOWN', inplace=True)\n",
    "attacks['country'].replace('EQUATORIAL GUINEA / CAMEROON','UNKNOWN', inplace=True)\n",
    "attacks['country'].replace('ITALY / CROATIA','UNKNOWN', inplace=True)\n",
    "attacks['country'].replace('IRAN / IRAQ','UNKNOWN', inplace=True)\n",
    "attacks['country'].replace('ST HELENA, BRITISH OVERSEAS TERRITORY','UNKNOWN', inplace=True)\n",
    "attacks['country'].replace('DIEGO GARCIA','UNKNOWN', inplace=True)\n",
    "attacks['country'].replace('BETWEEN PORTUGAL & INDIA','UNKNOWN', inplace=True)\n",
    "attacks['country'].replace('SUDAN?','UNKNOWN', inplace=True)\n",
    "attacks['country'].replace('OCEAN','UNKNOWN', inplace=True)\n",
    "attacks['country'].replace(' PHILIPPINES','PHILIPPINES', inplace=True)\n",
    "attacks['country'].replace(' TONGA','TONGA', inplace=True)\n",
    "    "
   ]
  },
  {
   "cell_type": "code",
   "execution_count": 62,
   "metadata": {},
   "outputs": [],
   "source": [
    "# attacks['country'] = [column.upper() for column in attacks.columns]\n",
    "attacks['country'] = attacks['country'].str.upper() \n"
   ]
  },
  {
   "cell_type": "code",
   "execution_count": 80,
   "metadata": {},
   "outputs": [],
   "source": [
    "# pd.set_option('display.max_columns', None) \n",
    "# pd.set_option('display.max_rows', None)\n"
   ]
  },
  {
   "cell_type": "code",
   "execution_count": 68,
   "metadata": {},
   "outputs": [
    {
     "data": {
      "text/plain": [
       "2403"
      ]
     },
     "execution_count": 68,
     "metadata": {},
     "output_type": "execute_result"
    }
   ],
   "source": [
    "attacks['year'].isnull().sum()"
   ]
  },
  {
   "cell_type": "code",
   "execution_count": 69,
   "metadata": {},
   "outputs": [
    {
     "data": {
      "text/plain": [
       "2015.0    143\n",
       "2017.0    136\n",
       "2016.0    130\n",
       "2011.0    128\n",
       "2014.0    127\n",
       "0.0       125\n",
       "2008.0    122\n",
       "2013.0    122\n",
       "2009.0    120\n",
       "2012.0    117\n",
       "2007.0    112\n",
       "2005.0    103\n",
       "2006.0    103\n",
       "2010.0    101\n",
       "2000.0     97\n",
       "1959.0     93\n",
       "1960.0     93\n",
       "2004.0     92\n",
       "2003.0     92\n",
       "2001.0     92\n",
       "2002.0     88\n",
       "1962.0     86\n",
       "1961.0     78\n",
       "1995.0     76\n",
       "1999.0     66\n",
       "1964.0     66\n",
       "1998.0     65\n",
       "1963.0     61\n",
       "1996.0     61\n",
       "1966.0     58\n",
       "1997.0     57\n",
       "1994.0     56\n",
       "1992.0     56\n",
       "1993.0     56\n",
       "1988.0     55\n",
       "1958.0     54\n",
       "1989.0     53\n",
       "2018.0     53\n",
       "1965.0     51\n",
       "1956.0     51\n",
       "1983.0     50\n",
       "1981.0     49\n",
       "1975.0     49\n",
       "1967.0     48\n",
       "1968.0     47\n",
       "1955.0     43\n",
       "1950.0     43\n",
       "1954.0     42\n",
       "1970.0     42\n",
       "1984.0     41\n",
       "1942.0     41\n",
       "1957.0     41\n",
       "1982.0     40\n",
       "1986.0     39\n",
       "1976.0     39\n",
       "1929.0     38\n",
       "1991.0     38\n",
       "1974.0     38\n",
       "1990.0     38\n",
       "1985.0     37\n",
       "1953.0     36\n",
       "1972.0     35\n",
       "1987.0     35\n",
       "1980.0     35\n",
       "1951.0     32\n",
       "1935.0     32\n",
       "1936.0     32\n",
       "1949.0     31\n",
       "1944.0     31\n",
       "1937.0     30\n",
       "1947.0     30\n",
       "1969.0     30\n",
       "1948.0     29\n",
       "1952.0     29\n",
       "1931.0     29\n",
       "1971.0     28\n",
       "1943.0     28\n",
       "1941.0     27\n",
       "1973.0     27\n",
       "1934.0     27\n",
       "1932.0     27\n",
       "1930.0     26\n",
       "1946.0     26\n",
       "1977.0     26\n",
       "1928.0     26\n",
       "1939.0     25\n",
       "1978.0     25\n",
       "1916.0     25\n",
       "1979.0     25\n",
       "1940.0     24\n",
       "1938.0     24\n",
       "1907.0     23\n",
       "1933.0     22\n",
       "1922.0     22\n",
       "1906.0     21\n",
       "1923.0     21\n",
       "1926.0     21\n",
       "1898.0     21\n",
       "1895.0     20\n",
       "1899.0     20\n",
       "1924.0     19\n",
       "1927.0     19\n",
       "1913.0     18\n",
       "1914.0     18\n",
       "1909.0     18\n",
       "1905.0     18\n",
       "1890.0     17\n",
       "1945.0     16\n",
       "1911.0     16\n",
       "1886.0     15\n",
       "1888.0     15\n",
       "1880.0     15\n",
       "1902.0     15\n",
       "1920.0     15\n",
       "1894.0     15\n",
       "1919.0     14\n",
       "1925.0     14\n",
       "1904.0     14\n",
       "1910.0     14\n",
       "1877.0     14\n",
       "1912.0     14\n",
       "1864.0     14\n",
       "1893.0     13\n",
       "1887.0     13\n",
       "1883.0     13\n",
       "1878.0     13\n",
       "1908.0     13\n",
       "1900.0     13\n",
       "1862.0     12\n",
       "1915.0     12\n",
       "1921.0     12\n",
       "1896.0     12\n",
       "1882.0     12\n",
       "1874.0     12\n",
       "1917.0     11\n",
       "1892.0     11\n",
       "1897.0     11\n",
       "1863.0     11\n",
       "1852.0     10\n",
       "1903.0     10\n",
       "1885.0      9\n",
       "1847.0      9\n",
       "1876.0      9\n",
       "1901.0      9\n",
       "1889.0      9\n",
       "1881.0      9\n",
       "1891.0      9\n",
       "1871.0      9\n",
       "1853.0      8\n",
       "1879.0      8\n",
       "1872.0      8\n",
       "1870.0      8\n",
       "1849.0      7\n",
       "1884.0      7\n",
       "1855.0      7\n",
       "1860.0      7\n",
       "1845.0      6\n",
       "1868.0      6\n",
       "1858.0      6\n",
       "1861.0      5\n",
       "1918.0      5\n",
       "1826.0      5\n",
       "1875.0      5\n",
       "1840.0      5\n",
       "1867.0      5\n",
       "1817.0      4\n",
       "1856.0      4\n",
       "1830.0      4\n",
       "1842.0      4\n",
       "1865.0      4\n",
       "1848.0      4\n",
       "1844.0      4\n",
       "1873.0      4\n",
       "1837.0      4\n",
       "1839.0      4\n",
       "1827.0      3\n",
       "1846.0      3\n",
       "1851.0      3\n",
       "1829.0      3\n",
       "1808.0      3\n",
       "1700.0      3\n",
       "1850.0      2\n",
       "1836.0      2\n",
       "1869.0      2\n",
       "1776.0      2\n",
       "1825.0      2\n",
       "1832.0      2\n",
       "1866.0      2\n",
       "1835.0      2\n",
       "1828.0      2\n",
       "1642.0      2\n",
       "1831.0      2\n",
       "1803.0      2\n",
       "1841.0      1\n",
       "1792.0      1\n",
       "77.0        1\n",
       "1755.0      1\n",
       "5.0         1\n",
       "1810.0      1\n",
       "1857.0      1\n",
       "1703.0      1\n",
       "1834.0      1\n",
       "1787.0      1\n",
       "1783.0      1\n",
       "1764.0      1\n",
       "1733.0      1\n",
       "1791.0      1\n",
       "1801.0      1\n",
       "1742.0      1\n",
       "1638.0      1\n",
       "1785.0      1\n",
       "1771.0      1\n",
       "1721.0      1\n",
       "1822.0      1\n",
       "1815.0      1\n",
       "1580.0      1\n",
       "1780.0      1\n",
       "1748.0      1\n",
       "1784.0      1\n",
       "1738.0      1\n",
       "1859.0      1\n",
       "1805.0      1\n",
       "1554.0      1\n",
       "1812.0      1\n",
       "1819.0      1\n",
       "1617.0      1\n",
       "1595.0      1\n",
       "1637.0      1\n",
       "1788.0      1\n",
       "1823.0      1\n",
       "1749.0      1\n",
       "1555.0      1\n",
       "1802.0      1\n",
       "1807.0      1\n",
       "1816.0      1\n",
       "1800.0      1\n",
       "1786.0      1\n",
       "1758.0      1\n",
       "500.0       1\n",
       "1779.0      1\n",
       "1751.0      1\n",
       "1723.0      1\n",
       "1767.0      1\n",
       "1753.0      1\n",
       "1818.0      1\n",
       "1811.0      1\n",
       "1804.0      1\n",
       "1797.0      1\n",
       "1543.0      1\n",
       "Name: year, dtype: int64"
      ]
     },
     "execution_count": 69,
     "metadata": {},
     "output_type": "execute_result"
    }
   ],
   "source": [
    "attacks['year'].value_counts()"
   ]
  },
  {
   "cell_type": "code",
   "execution_count": 92,
   "metadata": {},
   "outputs": [],
   "source": [
    "#-1800 - 1800 - 1850 - 1900 - 1950 - 2000 - 2000+ ( nova coluna)\n",
    "# ufo_vars = ufo_vars[(ufo_vars['country'] == 'us') & (ufo_vars['year'] > 2000) & (ufo_vars['year'] <= 2010)]\n",
    "# # animals.loc[(animals['danger'] >= 4), 'flag_extincao'] = 1\n",
    "# attacks.loc[(attacks['year'] <= 1800) , 'data_clusters'] = 1\n",
    "# attacks.loc[(attacks['year'] > 1801) & (attacks['year'] <= 1850) , 'data_clusters'] = 1\n",
    "# attacks.loc[(attacks['year'] > 1851) & (attacks['year'] <= 1900) , 'data_clusters'] = 1\n",
    "# attacks.loc[(attacks['year'] > 1901) & (attacks['year'] <= 1950) , 'data_clusters'] = 1\n",
    "# attacks.loc[(attacks['year'] > 1951) & (attacks['year'] <= 2000) , 'data_clusters'] = 1\n",
    "# attacks.loc[(attacks['year'] > 2001), 'data_clusters'] = 1\n",
    "# & (attacks['year'] => 1801 and <= 1850) & (attacks['year'] => 1851 and <= 1900) & (attacks['year'] => 1901 and <= 1950) & (attacks['year'] => 1951 and <= 2000) & (attacks['year'] => 2001), 'data_clusters'] = 1\n",
    "# pd.cut(df['A'], bins=[0, 2, 8, 10], include_lowest=True, labels=['low', 'mid', 'high'])\n"
   ]
  },
  {
   "cell_type": "code",
   "execution_count": 96,
   "metadata": {},
   "outputs": [
    {
     "data": {
      "text/plain": [
       "2405"
      ]
     },
     "execution_count": 96,
     "metadata": {},
     "output_type": "execute_result"
    }
   ],
   "source": [
    "attacks['type'].isnull().sum()"
   ]
  },
  {
   "cell_type": "code",
   "execution_count": 97,
   "metadata": {},
   "outputs": [
    {
     "data": {
      "text/plain": [
       "Unprovoked      4595\n",
       "Provoked         574\n",
       "Invalid          547\n",
       "Sea Disaster     239\n",
       "Boating          203\n",
       "Boat             137\n",
       "Questionable       2\n",
       "Boatomg            1\n",
       "Name: type, dtype: int64"
      ]
     },
     "execution_count": 97,
     "metadata": {},
     "output_type": "execute_result"
    }
   ],
   "source": [
    "attacks['type'].value_counts()"
   ]
  },
  {
   "cell_type": "code",
   "execution_count": 98,
   "metadata": {},
   "outputs": [],
   "source": [
    "#categoria un e prov e os demais unknown ou 99999 - fazer aqui com cola da Fer\n",
    "\n",
    "attacks['type'].replace('Invalid','UNKNOWN', inplace=True)\n",
    "attacks['type'].replace('Sea Disaster','UNKNOWN', inplace=True)\n",
    "attacks['type'].replace('Boating','UNKNOWN', inplace=True)\n",
    "attacks['type'].replace('Boat','UNKNOWN', inplace=True)\n",
    "attacks['type'].replace('Questionable','UNKNOWN', inplace=True)\n",
    "attacks['type'].replace('Boatomg ','UNKNOWN', inplace=True)\n",
    "attacks['type'] = attacks['type'].str.upper() "
   ]
  },
  {
   "cell_type": "code",
   "execution_count": null,
   "metadata": {},
   "outputs": [],
   "source": [
    "attacks['species'].isnull().sum()"
   ]
  },
  {
   "cell_type": "code",
   "execution_count": null,
   "metadata": {},
   "outputs": [],
   "source": [
    "attacks['species'].value_counts() #matar"
   ]
  },
  {
   "cell_type": "code",
   "execution_count": null,
   "metadata": {},
   "outputs": [],
   "source": [
    "attacks['fatal_(y/n)'].isnull().sum()"
   ]
  },
  {
   "cell_type": "code",
   "execution_count": null,
   "metadata": {},
   "outputs": [],
   "source": [
    "attacks['fatal_(y/n)'].value_counts()"
   ]
  },
  {
   "cell_type": "code",
   "execution_count": null,
   "metadata": {},
   "outputs": [],
   "source": [
    "#categoria un e prov e os demais unknown ou 99999 - fazer aqui com cola da Fer"
   ]
  },
  {
   "cell_type": "code",
   "execution_count": null,
   "metadata": {},
   "outputs": [],
   "source": [
    "attacks['activity'].isnull().sum()"
   ]
  },
  {
   "cell_type": "code",
   "execution_count": null,
   "metadata": {},
   "outputs": [],
   "source": [
    "attacks['activity'].value_counts()"
   ]
  },
  {
   "cell_type": "code",
   "execution_count": null,
   "metadata": {},
   "outputs": [],
   "source": [
    "#criar lista com os 10 primeiros e renomeia como others != aos 10º"
   ]
  },
  {
   "cell_type": "code",
   "execution_count": null,
   "metadata": {},
   "outputs": [],
   "source": [
    "attacks['age'].isnull().sum()"
   ]
  },
  {
   "cell_type": "code",
   "execution_count": null,
   "metadata": {},
   "outputs": [],
   "source": [
    "attacks['age'].value_counts()"
   ]
  },
  {
   "cell_type": "code",
   "execution_count": null,
   "metadata": {},
   "outputs": [],
   "source": [
    "#-12 , 17, 25, 35, 45, 50, 55, 60+  unkown"
   ]
  }
 ],
 "metadata": {
  "kernelspec": {
   "display_name": "Python 3",
   "language": "python",
   "name": "python3"
  },
  "language_info": {
   "codemirror_mode": {
    "name": "ipython",
    "version": 3
   },
   "file_extension": ".py",
   "mimetype": "text/x-python",
   "name": "python",
   "nbconvert_exporter": "python",
   "pygments_lexer": "ipython3",
   "version": "3.8.1"
  }
 },
 "nbformat": 4,
 "nbformat_minor": 4
}
