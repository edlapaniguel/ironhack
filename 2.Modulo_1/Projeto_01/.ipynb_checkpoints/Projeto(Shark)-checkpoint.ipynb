{
 "cells": [
  {
   "cell_type": "code",
   "execution_count": 235,
   "metadata": {},
   "outputs": [],
   "source": [
    "import pandas as pd\n",
    "import numpy as np\n"
   ]
  },
  {
   "cell_type": "code",
   "execution_count": 236,
   "metadata": {
    "scrolled": true
   },
   "outputs": [
    {
     "name": "stdout",
     "output_type": "stream",
     "text": [
      "/Users/edlapaniguel/Desktop/ironhack/2.Modulo_1/Projeto_01\r\n"
     ]
    }
   ],
   "source": [
    "!pwd"
   ]
  },
  {
   "cell_type": "code",
   "execution_count": 237,
   "metadata": {},
   "outputs": [],
   "source": [
    "#bataques por local(tem pais, area e localização),sexo(pelo nome da para verificar tbm),atividade, data, tipo, age, fatalidade, tipo de tubarão.\n",
    "#Tirar colunas Unnamed22 e Unnamed23\n",
    "#Tirar linhas com Nan - ate a linha 6301 tem info, da 6302 para o fim  é so NaN. \n",
    "#Tirar coluna nome \n",
    "#Primeiro carreguei TODO o doc pra ver, visual, mesmo\n",
    "#Passei value_counts em todas as colunas, investigação, depois que escolhi apaguei para não pesar muito\n",
    "# usar site da pop de tubaroes no mundo cruzando pais, area e localização com NaN do especie\n",
    "# Sex ajustar a coluna sexo com os que estavam N, .,  lli - F era 12% e M 88%\n",
    "#Years #-1800 - 1800 - 1850 - 1900 - 1950 - 2000 - 2000+ ( nova coluna)\n",
    "#Tirar coluna species "
   ]
  },
  {
   "cell_type": "code",
   "execution_count": 238,
   "metadata": {},
   "outputs": [
    {
     "data": {
      "text/html": [
       "<div>\n",
       "<style scoped>\n",
       "    .dataframe tbody tr th:only-of-type {\n",
       "        vertical-align: middle;\n",
       "    }\n",
       "\n",
       "    .dataframe tbody tr th {\n",
       "        vertical-align: top;\n",
       "    }\n",
       "\n",
       "    .dataframe thead th {\n",
       "        text-align: right;\n",
       "    }\n",
       "</style>\n",
       "<table border=\"1\" class=\"dataframe\">\n",
       "  <thead>\n",
       "    <tr style=\"text-align: right;\">\n",
       "      <th></th>\n",
       "      <th>Case Number</th>\n",
       "      <th>Date</th>\n",
       "      <th>Year</th>\n",
       "      <th>Type</th>\n",
       "      <th>Country</th>\n",
       "      <th>Area</th>\n",
       "      <th>Location</th>\n",
       "      <th>Activity</th>\n",
       "      <th>Name</th>\n",
       "      <th>Sex</th>\n",
       "      <th>...</th>\n",
       "      <th>Species</th>\n",
       "      <th>Investigator or Source</th>\n",
       "      <th>pdf</th>\n",
       "      <th>href formula</th>\n",
       "      <th>href</th>\n",
       "      <th>Case Number.1</th>\n",
       "      <th>Case Number.2</th>\n",
       "      <th>original order</th>\n",
       "      <th>Unnamed: 22</th>\n",
       "      <th>Unnamed: 23</th>\n",
       "    </tr>\n",
       "  </thead>\n",
       "  <tbody>\n",
       "    <tr>\n",
       "      <th>0</th>\n",
       "      <td>2018.06.25</td>\n",
       "      <td>25-Jun-2018</td>\n",
       "      <td>2018.0</td>\n",
       "      <td>Boating</td>\n",
       "      <td>USA</td>\n",
       "      <td>California</td>\n",
       "      <td>Oceanside, San Diego County</td>\n",
       "      <td>Paddling</td>\n",
       "      <td>Julie Wolfe</td>\n",
       "      <td>F</td>\n",
       "      <td>...</td>\n",
       "      <td>White shark</td>\n",
       "      <td>R. Collier, GSAF</td>\n",
       "      <td>2018.06.25-Wolfe.pdf</td>\n",
       "      <td>http://sharkattackfile.net/spreadsheets/pdf_di...</td>\n",
       "      <td>http://sharkattackfile.net/spreadsheets/pdf_di...</td>\n",
       "      <td>2018.06.25</td>\n",
       "      <td>2018.06.25</td>\n",
       "      <td>6303.0</td>\n",
       "      <td>NaN</td>\n",
       "      <td>NaN</td>\n",
       "    </tr>\n",
       "    <tr>\n",
       "      <th>1</th>\n",
       "      <td>2018.06.18</td>\n",
       "      <td>18-Jun-2018</td>\n",
       "      <td>2018.0</td>\n",
       "      <td>Unprovoked</td>\n",
       "      <td>USA</td>\n",
       "      <td>Georgia</td>\n",
       "      <td>St. Simon Island, Glynn County</td>\n",
       "      <td>Standing</td>\n",
       "      <td>Adyson McNeely</td>\n",
       "      <td>F</td>\n",
       "      <td>...</td>\n",
       "      <td>NaN</td>\n",
       "      <td>K.McMurray, TrackingSharks.com</td>\n",
       "      <td>2018.06.18-McNeely.pdf</td>\n",
       "      <td>http://sharkattackfile.net/spreadsheets/pdf_di...</td>\n",
       "      <td>http://sharkattackfile.net/spreadsheets/pdf_di...</td>\n",
       "      <td>2018.06.18</td>\n",
       "      <td>2018.06.18</td>\n",
       "      <td>6302.0</td>\n",
       "      <td>NaN</td>\n",
       "      <td>NaN</td>\n",
       "    </tr>\n",
       "    <tr>\n",
       "      <th>2</th>\n",
       "      <td>2018.06.09</td>\n",
       "      <td>09-Jun-2018</td>\n",
       "      <td>2018.0</td>\n",
       "      <td>Invalid</td>\n",
       "      <td>USA</td>\n",
       "      <td>Hawaii</td>\n",
       "      <td>Habush, Oahu</td>\n",
       "      <td>Surfing</td>\n",
       "      <td>John Denges</td>\n",
       "      <td>M</td>\n",
       "      <td>...</td>\n",
       "      <td>NaN</td>\n",
       "      <td>K.McMurray, TrackingSharks.com</td>\n",
       "      <td>2018.06.09-Denges.pdf</td>\n",
       "      <td>http://sharkattackfile.net/spreadsheets/pdf_di...</td>\n",
       "      <td>http://sharkattackfile.net/spreadsheets/pdf_di...</td>\n",
       "      <td>2018.06.09</td>\n",
       "      <td>2018.06.09</td>\n",
       "      <td>6301.0</td>\n",
       "      <td>NaN</td>\n",
       "      <td>NaN</td>\n",
       "    </tr>\n",
       "    <tr>\n",
       "      <th>3</th>\n",
       "      <td>2018.06.08</td>\n",
       "      <td>08-Jun-2018</td>\n",
       "      <td>2018.0</td>\n",
       "      <td>Unprovoked</td>\n",
       "      <td>AUSTRALIA</td>\n",
       "      <td>New South Wales</td>\n",
       "      <td>Arrawarra Headland</td>\n",
       "      <td>Surfing</td>\n",
       "      <td>male</td>\n",
       "      <td>M</td>\n",
       "      <td>...</td>\n",
       "      <td>2 m shark</td>\n",
       "      <td>B. Myatt, GSAF</td>\n",
       "      <td>2018.06.08-Arrawarra.pdf</td>\n",
       "      <td>http://sharkattackfile.net/spreadsheets/pdf_di...</td>\n",
       "      <td>http://sharkattackfile.net/spreadsheets/pdf_di...</td>\n",
       "      <td>2018.06.08</td>\n",
       "      <td>2018.06.08</td>\n",
       "      <td>6300.0</td>\n",
       "      <td>NaN</td>\n",
       "      <td>NaN</td>\n",
       "    </tr>\n",
       "    <tr>\n",
       "      <th>4</th>\n",
       "      <td>2018.06.04</td>\n",
       "      <td>04-Jun-2018</td>\n",
       "      <td>2018.0</td>\n",
       "      <td>Provoked</td>\n",
       "      <td>MEXICO</td>\n",
       "      <td>Colima</td>\n",
       "      <td>La Ticla</td>\n",
       "      <td>Free diving</td>\n",
       "      <td>Gustavo Ramos</td>\n",
       "      <td>M</td>\n",
       "      <td>...</td>\n",
       "      <td>Tiger shark, 3m</td>\n",
       "      <td>A .Kipper</td>\n",
       "      <td>2018.06.04-Ramos.pdf</td>\n",
       "      <td>http://sharkattackfile.net/spreadsheets/pdf_di...</td>\n",
       "      <td>http://sharkattackfile.net/spreadsheets/pdf_di...</td>\n",
       "      <td>2018.06.04</td>\n",
       "      <td>2018.06.04</td>\n",
       "      <td>6299.0</td>\n",
       "      <td>NaN</td>\n",
       "      <td>NaN</td>\n",
       "    </tr>\n",
       "  </tbody>\n",
       "</table>\n",
       "<p>5 rows × 24 columns</p>\n",
       "</div>"
      ],
      "text/plain": [
       "  Case Number         Date    Year        Type    Country             Area  \\\n",
       "0  2018.06.25  25-Jun-2018  2018.0     Boating        USA       California   \n",
       "1  2018.06.18  18-Jun-2018  2018.0  Unprovoked        USA          Georgia   \n",
       "2  2018.06.09  09-Jun-2018  2018.0     Invalid        USA           Hawaii   \n",
       "3  2018.06.08  08-Jun-2018  2018.0  Unprovoked  AUSTRALIA  New South Wales   \n",
       "4  2018.06.04  04-Jun-2018  2018.0    Provoked     MEXICO           Colima   \n",
       "\n",
       "                         Location     Activity             Name Sex   ...  \\\n",
       "0     Oceanside, San Diego County     Paddling      Julie Wolfe    F  ...   \n",
       "1  St. Simon Island, Glynn County     Standing  Adyson McNeely     F  ...   \n",
       "2                    Habush, Oahu      Surfing      John Denges    M  ...   \n",
       "3              Arrawarra Headland      Surfing             male    M  ...   \n",
       "4                        La Ticla  Free diving   Gustavo Ramos     M  ...   \n",
       "\n",
       "          Species           Investigator or Source                       pdf  \\\n",
       "0      White shark                R. Collier, GSAF      2018.06.25-Wolfe.pdf   \n",
       "1              NaN  K.McMurray, TrackingSharks.com    2018.06.18-McNeely.pdf   \n",
       "2              NaN  K.McMurray, TrackingSharks.com     2018.06.09-Denges.pdf   \n",
       "3        2 m shark                  B. Myatt, GSAF  2018.06.08-Arrawarra.pdf   \n",
       "4  Tiger shark, 3m                       A .Kipper      2018.06.04-Ramos.pdf   \n",
       "\n",
       "                                        href formula  \\\n",
       "0  http://sharkattackfile.net/spreadsheets/pdf_di...   \n",
       "1  http://sharkattackfile.net/spreadsheets/pdf_di...   \n",
       "2  http://sharkattackfile.net/spreadsheets/pdf_di...   \n",
       "3  http://sharkattackfile.net/spreadsheets/pdf_di...   \n",
       "4  http://sharkattackfile.net/spreadsheets/pdf_di...   \n",
       "\n",
       "                                                href Case Number.1  \\\n",
       "0  http://sharkattackfile.net/spreadsheets/pdf_di...    2018.06.25   \n",
       "1  http://sharkattackfile.net/spreadsheets/pdf_di...    2018.06.18   \n",
       "2  http://sharkattackfile.net/spreadsheets/pdf_di...    2018.06.09   \n",
       "3  http://sharkattackfile.net/spreadsheets/pdf_di...    2018.06.08   \n",
       "4  http://sharkattackfile.net/spreadsheets/pdf_di...    2018.06.04   \n",
       "\n",
       "  Case Number.2 original order Unnamed: 22 Unnamed: 23  \n",
       "0    2018.06.25         6303.0         NaN         NaN  \n",
       "1    2018.06.18         6302.0         NaN         NaN  \n",
       "2    2018.06.09         6301.0         NaN         NaN  \n",
       "3    2018.06.08         6300.0         NaN         NaN  \n",
       "4    2018.06.04         6299.0         NaN         NaN  \n",
       "\n",
       "[5 rows x 24 columns]"
      ]
     },
     "execution_count": 238,
     "metadata": {},
     "output_type": "execute_result"
    }
   ],
   "source": [
    "attacks = pd.read_csv('attacks.csv', encoding=\"ISO-8859-1\")\n",
    "attacks.head()"
   ]
  },
  {
   "cell_type": "code",
   "execution_count": 239,
   "metadata": {
    "scrolled": true
   },
   "outputs": [
    {
     "name": "stdout",
     "output_type": "stream",
     "text": [
      "<class 'pandas.core.frame.DataFrame'>\n",
      "RangeIndex: 25723 entries, 0 to 25722\n",
      "Data columns (total 24 columns):\n",
      " #   Column                  Non-Null Count  Dtype  \n",
      "---  ------                  --------------  -----  \n",
      " 0   Case Number             8702 non-null   object \n",
      " 1   Date                    6302 non-null   object \n",
      " 2   Year                    6300 non-null   float64\n",
      " 3   Type                    6298 non-null   object \n",
      " 4   Country                 6252 non-null   object \n",
      " 5   Area                    5847 non-null   object \n",
      " 6   Location                5762 non-null   object \n",
      " 7   Activity                5758 non-null   object \n",
      " 8   Name                    6092 non-null   object \n",
      " 9   Sex                     5737 non-null   object \n",
      " 10  Age                     3471 non-null   object \n",
      " 11  Injury                  6274 non-null   object \n",
      " 12  Fatal (Y/N)             5763 non-null   object \n",
      " 13  Time                    2948 non-null   object \n",
      " 14  Species                 3464 non-null   object \n",
      " 15  Investigator or Source  6285 non-null   object \n",
      " 16  pdf                     6302 non-null   object \n",
      " 17  href formula            6301 non-null   object \n",
      " 18  href                    6302 non-null   object \n",
      " 19  Case Number.1           6302 non-null   object \n",
      " 20  Case Number.2           6302 non-null   object \n",
      " 21  original order          6309 non-null   float64\n",
      " 22  Unnamed: 22             1 non-null      object \n",
      " 23  Unnamed: 23             2 non-null      object \n",
      "dtypes: float64(2), object(22)\n",
      "memory usage: 4.7+ MB\n"
     ]
    }
   ],
   "source": [
    "attacks.info()\n",
    "#tras as linhas preenchidas, as não nulas, NaN"
   ]
  },
  {
   "cell_type": "code",
   "execution_count": 240,
   "metadata": {},
   "outputs": [
    {
     "data": {
      "text/plain": [
       "Case Number               17021\n",
       "Date                      19421\n",
       "Year                      19423\n",
       "Type                      19425\n",
       "Country                   19471\n",
       "Area                      19876\n",
       "Location                  19961\n",
       "Activity                  19965\n",
       "Name                      19631\n",
       "Sex                       19986\n",
       "Age                       22252\n",
       "Injury                    19449\n",
       "Fatal (Y/N)               19960\n",
       "Time                      22775\n",
       "Species                   22259\n",
       "Investigator or Source    19438\n",
       "pdf                       19421\n",
       "href formula              19422\n",
       "href                      19421\n",
       "Case Number.1             19421\n",
       "Case Number.2             19421\n",
       "original order            19414\n",
       "Unnamed: 22               25722\n",
       "Unnamed: 23               25721\n",
       "dtype: int64"
      ]
     },
     "execution_count": 240,
     "metadata": {},
     "output_type": "execute_result"
    }
   ],
   "source": [
    "attacks.isnull().sum()\n",
    "# a soma de linhas nulas pra cada coluna, as NaN"
   ]
  },
  {
   "cell_type": "code",
   "execution_count": 241,
   "metadata": {},
   "outputs": [],
   "source": [
    "df_bkp = attacks.copy()"
   ]
  },
  {
   "cell_type": "code",
   "execution_count": 242,
   "metadata": {},
   "outputs": [
    {
     "data": {
      "text/plain": [
       "(8703, 24)"
      ]
     },
     "execution_count": 242,
     "metadata": {},
     "output_type": "execute_result"
    }
   ],
   "source": [
    "attacks.dropna(how='all', inplace=True) \n",
    "attacks.shape"
   ]
  },
  {
   "cell_type": "code",
   "execution_count": 243,
   "metadata": {},
   "outputs": [
    {
     "data": {
      "text/plain": [
       "Index(['Case Number', 'Date', 'Year', 'Type', 'Country', 'Area', 'Location',\n",
       "       'Activity', 'Name', 'Sex ', 'Age', 'Injury', 'Fatal (Y/N)', 'Time',\n",
       "       'Species ', 'Investigator or Source', 'pdf', 'href formula', 'href',\n",
       "       'Case Number.1', 'Case Number.2', 'original order', 'Unnamed: 22',\n",
       "       'Unnamed: 23'],\n",
       "      dtype='object')"
      ]
     },
     "execution_count": 243,
     "metadata": {},
     "output_type": "execute_result"
    }
   ],
   "source": [
    "attacks.columns"
   ]
  },
  {
   "cell_type": "code",
   "execution_count": 244,
   "metadata": {},
   "outputs": [],
   "source": [
    "attacks.columns = [column.lower() for column in attacks.columns]\n",
    "attacks.columns = [column.replace(' ','_') for column in attacks.columns]\n"
   ]
  },
  {
   "cell_type": "code",
   "execution_count": 245,
   "metadata": {},
   "outputs": [],
   "source": [
    "attacks.rename(columns={'sex_': 'sex', 'species_':'species'}, inplace=True)\n"
   ]
  },
  {
   "cell_type": "code",
   "execution_count": 246,
   "metadata": {},
   "outputs": [
    {
     "data": {
      "text/plain": [
       "Index(['case_number', 'date', 'year', 'type', 'country', 'area', 'location',\n",
       "       'activity', 'name', 'sex', 'age', 'injury', 'fatal_(y/n)', 'time',\n",
       "       'species', 'investigator_or_source', 'pdf', 'href_formula', 'href',\n",
       "       'case_number.1', 'case_number.2', 'original_order', 'unnamed:_22',\n",
       "       'unnamed:_23'],\n",
       "      dtype='object')"
      ]
     },
     "execution_count": 246,
     "metadata": {},
     "output_type": "execute_result"
    }
   ],
   "source": [
    "attacks.columns"
   ]
  },
  {
   "cell_type": "code",
   "execution_count": 247,
   "metadata": {
    "scrolled": true
   },
   "outputs": [],
   "source": [
    "attacks.drop(columns=['unnamed:_22','unnamed:_23'], inplace=True)\n"
   ]
  },
  {
   "cell_type": "code",
   "execution_count": 248,
   "metadata": {},
   "outputs": [
    {
     "data": {
      "text/plain": [
       "Index(['case_number', 'date', 'year', 'type', 'country', 'area', 'location',\n",
       "       'activity', 'name', 'sex', 'age', 'injury', 'fatal_(y/n)', 'time',\n",
       "       'species', 'investigator_or_source', 'pdf', 'href_formula', 'href',\n",
       "       'case_number.1', 'case_number.2', 'original_order'],\n",
       "      dtype='object')"
      ]
     },
     "execution_count": 248,
     "metadata": {},
     "output_type": "execute_result"
    }
   ],
   "source": [
    "attacks.columns\n"
   ]
  },
  {
   "cell_type": "code",
   "execution_count": 249,
   "metadata": {},
   "outputs": [],
   "source": [
    "attacks.drop(columns=['case_number','date','name','injury', 'species','investigator_or_source', 'pdf', 'href_formula', 'href', 'case_number.1', 'case_number.2', 'original_order'], inplace=True)\n"
   ]
  },
  {
   "cell_type": "code",
   "execution_count": 250,
   "metadata": {
    "scrolled": false
   },
   "outputs": [
    {
     "data": {
      "text/html": [
       "<div>\n",
       "<style scoped>\n",
       "    .dataframe tbody tr th:only-of-type {\n",
       "        vertical-align: middle;\n",
       "    }\n",
       "\n",
       "    .dataframe tbody tr th {\n",
       "        vertical-align: top;\n",
       "    }\n",
       "\n",
       "    .dataframe thead th {\n",
       "        text-align: right;\n",
       "    }\n",
       "</style>\n",
       "<table border=\"1\" class=\"dataframe\">\n",
       "  <thead>\n",
       "    <tr style=\"text-align: right;\">\n",
       "      <th></th>\n",
       "      <th>year</th>\n",
       "      <th>type</th>\n",
       "      <th>country</th>\n",
       "      <th>area</th>\n",
       "      <th>location</th>\n",
       "      <th>activity</th>\n",
       "      <th>sex</th>\n",
       "      <th>age</th>\n",
       "      <th>fatal_(y/n)</th>\n",
       "      <th>time</th>\n",
       "    </tr>\n",
       "  </thead>\n",
       "  <tbody>\n",
       "    <tr>\n",
       "      <th>7000</th>\n",
       "      <td>NaN</td>\n",
       "      <td>NaN</td>\n",
       "      <td>NaN</td>\n",
       "      <td>NaN</td>\n",
       "      <td>NaN</td>\n",
       "      <td>NaN</td>\n",
       "      <td>NaN</td>\n",
       "      <td>NaN</td>\n",
       "      <td>NaN</td>\n",
       "      <td>NaN</td>\n",
       "    </tr>\n",
       "    <tr>\n",
       "      <th>7001</th>\n",
       "      <td>NaN</td>\n",
       "      <td>NaN</td>\n",
       "      <td>NaN</td>\n",
       "      <td>NaN</td>\n",
       "      <td>NaN</td>\n",
       "      <td>NaN</td>\n",
       "      <td>NaN</td>\n",
       "      <td>NaN</td>\n",
       "      <td>NaN</td>\n",
       "      <td>NaN</td>\n",
       "    </tr>\n",
       "    <tr>\n",
       "      <th>7002</th>\n",
       "      <td>NaN</td>\n",
       "      <td>NaN</td>\n",
       "      <td>NaN</td>\n",
       "      <td>NaN</td>\n",
       "      <td>NaN</td>\n",
       "      <td>NaN</td>\n",
       "      <td>NaN</td>\n",
       "      <td>NaN</td>\n",
       "      <td>NaN</td>\n",
       "      <td>NaN</td>\n",
       "    </tr>\n",
       "    <tr>\n",
       "      <th>7003</th>\n",
       "      <td>NaN</td>\n",
       "      <td>NaN</td>\n",
       "      <td>NaN</td>\n",
       "      <td>NaN</td>\n",
       "      <td>NaN</td>\n",
       "      <td>NaN</td>\n",
       "      <td>NaN</td>\n",
       "      <td>NaN</td>\n",
       "      <td>NaN</td>\n",
       "      <td>NaN</td>\n",
       "    </tr>\n",
       "    <tr>\n",
       "      <th>7004</th>\n",
       "      <td>NaN</td>\n",
       "      <td>NaN</td>\n",
       "      <td>NaN</td>\n",
       "      <td>NaN</td>\n",
       "      <td>NaN</td>\n",
       "      <td>NaN</td>\n",
       "      <td>NaN</td>\n",
       "      <td>NaN</td>\n",
       "      <td>NaN</td>\n",
       "      <td>NaN</td>\n",
       "    </tr>\n",
       "    <tr>\n",
       "      <th>...</th>\n",
       "      <td>...</td>\n",
       "      <td>...</td>\n",
       "      <td>...</td>\n",
       "      <td>...</td>\n",
       "      <td>...</td>\n",
       "      <td>...</td>\n",
       "      <td>...</td>\n",
       "      <td>...</td>\n",
       "      <td>...</td>\n",
       "      <td>...</td>\n",
       "    </tr>\n",
       "    <tr>\n",
       "      <th>7995</th>\n",
       "      <td>NaN</td>\n",
       "      <td>NaN</td>\n",
       "      <td>NaN</td>\n",
       "      <td>NaN</td>\n",
       "      <td>NaN</td>\n",
       "      <td>NaN</td>\n",
       "      <td>NaN</td>\n",
       "      <td>NaN</td>\n",
       "      <td>NaN</td>\n",
       "      <td>NaN</td>\n",
       "    </tr>\n",
       "    <tr>\n",
       "      <th>7996</th>\n",
       "      <td>NaN</td>\n",
       "      <td>NaN</td>\n",
       "      <td>NaN</td>\n",
       "      <td>NaN</td>\n",
       "      <td>NaN</td>\n",
       "      <td>NaN</td>\n",
       "      <td>NaN</td>\n",
       "      <td>NaN</td>\n",
       "      <td>NaN</td>\n",
       "      <td>NaN</td>\n",
       "    </tr>\n",
       "    <tr>\n",
       "      <th>7997</th>\n",
       "      <td>NaN</td>\n",
       "      <td>NaN</td>\n",
       "      <td>NaN</td>\n",
       "      <td>NaN</td>\n",
       "      <td>NaN</td>\n",
       "      <td>NaN</td>\n",
       "      <td>NaN</td>\n",
       "      <td>NaN</td>\n",
       "      <td>NaN</td>\n",
       "      <td>NaN</td>\n",
       "    </tr>\n",
       "    <tr>\n",
       "      <th>7998</th>\n",
       "      <td>NaN</td>\n",
       "      <td>NaN</td>\n",
       "      <td>NaN</td>\n",
       "      <td>NaN</td>\n",
       "      <td>NaN</td>\n",
       "      <td>NaN</td>\n",
       "      <td>NaN</td>\n",
       "      <td>NaN</td>\n",
       "      <td>NaN</td>\n",
       "      <td>NaN</td>\n",
       "    </tr>\n",
       "    <tr>\n",
       "      <th>7999</th>\n",
       "      <td>NaN</td>\n",
       "      <td>NaN</td>\n",
       "      <td>NaN</td>\n",
       "      <td>NaN</td>\n",
       "      <td>NaN</td>\n",
       "      <td>NaN</td>\n",
       "      <td>NaN</td>\n",
       "      <td>NaN</td>\n",
       "      <td>NaN</td>\n",
       "      <td>NaN</td>\n",
       "    </tr>\n",
       "  </tbody>\n",
       "</table>\n",
       "<p>1000 rows × 10 columns</p>\n",
       "</div>"
      ],
      "text/plain": [
       "      year type country area location activity  sex  age fatal_(y/n) time\n",
       "7000   NaN  NaN     NaN  NaN      NaN      NaN  NaN  NaN         NaN  NaN\n",
       "7001   NaN  NaN     NaN  NaN      NaN      NaN  NaN  NaN         NaN  NaN\n",
       "7002   NaN  NaN     NaN  NaN      NaN      NaN  NaN  NaN         NaN  NaN\n",
       "7003   NaN  NaN     NaN  NaN      NaN      NaN  NaN  NaN         NaN  NaN\n",
       "7004   NaN  NaN     NaN  NaN      NaN      NaN  NaN  NaN         NaN  NaN\n",
       "...    ...  ...     ...  ...      ...      ...  ...  ...         ...  ...\n",
       "7995   NaN  NaN     NaN  NaN      NaN      NaN  NaN  NaN         NaN  NaN\n",
       "7996   NaN  NaN     NaN  NaN      NaN      NaN  NaN  NaN         NaN  NaN\n",
       "7997   NaN  NaN     NaN  NaN      NaN      NaN  NaN  NaN         NaN  NaN\n",
       "7998   NaN  NaN     NaN  NaN      NaN      NaN  NaN  NaN         NaN  NaN\n",
       "7999   NaN  NaN     NaN  NaN      NaN      NaN  NaN  NaN         NaN  NaN\n",
       "\n",
       "[1000 rows x 10 columns]"
      ]
     },
     "execution_count": 250,
     "metadata": {},
     "output_type": "execute_result"
    }
   ],
   "source": [
    "attacks.iloc[7000:8000]\n"
   ]
  },
  {
   "cell_type": "code",
   "execution_count": 251,
   "metadata": {},
   "outputs": [
    {
     "data": {
      "text/plain": [
       "Index(['year', 'type', 'country', 'area', 'location', 'activity', 'sex', 'age',\n",
       "       'fatal_(y/n)', 'time'],\n",
       "      dtype='object')"
      ]
     },
     "execution_count": 251,
     "metadata": {},
     "output_type": "execute_result"
    }
   ],
   "source": [
    "attacks.columns\n"
   ]
  },
  {
   "cell_type": "code",
   "execution_count": 252,
   "metadata": {
    "scrolled": false
   },
   "outputs": [
    {
     "data": {
      "text/plain": [
       "M      5094\n",
       "F       637\n",
       "M         2\n",
       "N         2\n",
       ".         1\n",
       "lli       1\n",
       "Name: sex, dtype: int64"
      ]
     },
     "execution_count": 252,
     "metadata": {},
     "output_type": "execute_result"
    }
   ],
   "source": [
    "attacks['sex'].value_counts()\n"
   ]
  },
  {
   "cell_type": "code",
   "execution_count": 253,
   "metadata": {},
   "outputs": [],
   "source": [
    "attacks['sex'].replace('N','M', inplace=True)"
   ]
  },
  {
   "cell_type": "code",
   "execution_count": 254,
   "metadata": {},
   "outputs": [],
   "source": [
    "attacks['sex'].replace('lli','F', inplace=True)"
   ]
  },
  {
   "cell_type": "code",
   "execution_count": 255,
   "metadata": {},
   "outputs": [],
   "source": [
    "attacks['sex'].replace('M ','M', inplace=True)"
   ]
  },
  {
   "cell_type": "code",
   "execution_count": 256,
   "metadata": {},
   "outputs": [],
   "source": [
    "attacks['sex'].replace('.','M', inplace=True)"
   ]
  },
  {
   "cell_type": "code",
   "execution_count": 257,
   "metadata": {},
   "outputs": [
    {
     "data": {
      "text/plain": [
       "5737"
      ]
     },
     "execution_count": 257,
     "metadata": {},
     "output_type": "execute_result"
    }
   ],
   "source": [
    "attacks['sex'].value_counts().sum()\n",
    "#5737 preenchidos, com valor"
   ]
  },
  {
   "cell_type": "code",
   "execution_count": 258,
   "metadata": {},
   "outputs": [
    {
     "data": {
      "text/plain": [
       "0        False\n",
       "1        False\n",
       "2        False\n",
       "3        False\n",
       "4        False\n",
       "         ...  \n",
       "8698      True\n",
       "8699      True\n",
       "8700      True\n",
       "8701      True\n",
       "25722     True\n",
       "Name: sex, Length: 8703, dtype: bool"
      ]
     },
     "execution_count": 258,
     "metadata": {},
     "output_type": "execute_result"
    }
   ],
   "source": [
    "attacks['sex'].isnull()"
   ]
  },
  {
   "cell_type": "code",
   "execution_count": 259,
   "metadata": {},
   "outputs": [
    {
     "data": {
      "text/plain": [
       "2966"
      ]
     },
     "execution_count": 259,
     "metadata": {},
     "output_type": "execute_result"
    }
   ],
   "source": [
    "attacks['sex'].isnull().sum()\n",
    "#2966 sem valor, NaN"
   ]
  },
  {
   "cell_type": "code",
   "execution_count": 260,
   "metadata": {
    "scrolled": true
   },
   "outputs": [
    {
     "data": {
      "text/plain": [
       "USA                 2229\n",
       "AUSTRALIA           1338\n",
       "SOUTH AFRICA         579\n",
       "PAPUA NEW GUINEA     134\n",
       "NEW ZEALAND          128\n",
       "                    ... \n",
       "GUATEMALA              1\n",
       "ST. MAARTIN            1\n",
       "BAY OF BENGAL          1\n",
       "SUDAN?                 1\n",
       "INDIAN OCEAN?          1\n",
       "Name: country, Length: 212, dtype: int64"
      ]
     },
     "execution_count": 260,
     "metadata": {},
     "output_type": "execute_result"
    }
   ],
   "source": [
    "attacks['country'].value_counts()"
   ]
  },
  {
   "cell_type": "code",
   "execution_count": 261,
   "metadata": {},
   "outputs": [
    {
     "data": {
      "text/plain": [
       "2451"
      ]
     },
     "execution_count": 261,
     "metadata": {},
     "output_type": "execute_result"
    }
   ],
   "source": [
    "attacks['country'].isnull().sum()\n",
    "#2451"
   ]
  },
  {
   "cell_type": "code",
   "execution_count": 262,
   "metadata": {},
   "outputs": [],
   "source": [
    "# attacks['country'].replace(' TONGA','TONGA', inplace=True)\n",
    "attacks['country'].replace('RED SEA / INDIAN OCEAN','UNKNOWN', inplace=True)\n",
    "attacks['country'].replace('RED SEA?','UNKNOWN', inplace=True)\n",
    "attacks['country'].replace('INDIAN OCEAN?','UNKNOWN', inplace=True)\n",
    "attacks['country'].replace('ASIA?','UNKNOWN', inplace=True)\n",
    "attacks['country'].replace('SOLOMON ISLANDS / VANUATU','UNKNOWN', inplace=True)\n",
    "attacks['country'].replace('ANDAMAN / NICOBAR ISLANDAS','UNKNOWN', inplace=True)\n",
    "attacks['country'].replace('EGYPT / ISRAEL','UNKNOWN', inplace=True)\n",
    "attacks['country'].replace('EQUATORIAL GUINEA / CAMEROON','UNKNOWN', inplace=True)\n",
    "attacks['country'].replace('ITALY / CROATIA','UNKNOWN', inplace=True)\n",
    "attacks['country'].replace('IRAN / IRAQ','UNKNOWN', inplace=True)\n",
    "attacks['country'].replace('ST HELENA, BRITISH OVERSEAS TERRITORY','UNKNOWN', inplace=True)\n",
    "attacks['country'].replace('DIEGO GARCIA','UNKNOWN', inplace=True)\n",
    "attacks['country'].replace('BETWEEN PORTUGAL & INDIA','UNKNOWN', inplace=True)\n",
    "attacks['country'].replace('SUDAN?','UNKNOWN', inplace=True)\n",
    "attacks['country'].replace('OCEAN','UNKNOWN', inplace=True)\n",
    "attacks['country'].replace(' PHILIPPINES','PHILIPPINES', inplace=True)\n",
    "attacks['country'].replace(' TONGA','TONGA', inplace=True)\n",
    "    "
   ]
  },
  {
   "cell_type": "code",
   "execution_count": 263,
   "metadata": {},
   "outputs": [],
   "source": [
    "# attacks['country'] = [column.upper() for column in attacks.columns]\n",
    "attacks['country'] = attacks['country'].str.upper() \n"
   ]
  },
  {
   "cell_type": "code",
   "execution_count": 264,
   "metadata": {},
   "outputs": [],
   "source": [
    "# pd.set_option('display.max_columns', None) \n",
    "# pd.set_option('display.max_rows', None)\n"
   ]
  },
  {
   "cell_type": "code",
   "execution_count": 265,
   "metadata": {},
   "outputs": [
    {
     "data": {
      "text/plain": [
       "2403"
      ]
     },
     "execution_count": 265,
     "metadata": {},
     "output_type": "execute_result"
    }
   ],
   "source": [
    "attacks['year'].isnull().sum()"
   ]
  },
  {
   "cell_type": "code",
   "execution_count": 266,
   "metadata": {},
   "outputs": [
    {
     "data": {
      "text/plain": [
       "2015.0    143\n",
       "2017.0    136\n",
       "2016.0    130\n",
       "2011.0    128\n",
       "2014.0    127\n",
       "         ... \n",
       "1818.0      1\n",
       "1811.0      1\n",
       "1804.0      1\n",
       "1797.0      1\n",
       "1543.0      1\n",
       "Name: year, Length: 249, dtype: int64"
      ]
     },
     "execution_count": 266,
     "metadata": {},
     "output_type": "execute_result"
    }
   ],
   "source": [
    "attacks['year'].value_counts()"
   ]
  },
  {
   "cell_type": "code",
   "execution_count": 267,
   "metadata": {},
   "outputs": [],
   "source": [
    "#-1800 - 1800 - 1850 - 1900 - 1950 - 2000 - 2000+ ( nova coluna)\n",
    "\n",
    "#df.loc[(df['coluna nome'] == ou > ou <= condição), 'nome nova coluna'] = 1\n",
    "attacks.loc[(attacks['year'] <= 1800),'year_grouped'] = '- 1800'\n",
    "attacks.loc[((attacks['year'] > 1800) & (attacks['year'] <= 1850)),'year_grouped'] = '1800 - 1850'\n",
    "attacks.loc[((attacks['year'] > 1850) & (attacks['year'] <= 1900)),'year_grouped'] = '1850 - 1900'\n",
    "attacks.loc[((attacks['year'] > 1900) & (attacks['year'] <= 1950)),'year_grouped'] = '1900 - 1950'\n",
    "attacks.loc[((attacks['year'] > 1950) & (attacks['year'] <= 2000)),'year_grouped'] = '1950 - 2000'\n",
    "attacks.loc[(attacks['year'] > 2000),'year_grouped'] = '2000 +'\n",
    "attacks.loc[(attacks['year'].isnull()),'year_grouped'] = 'UNKNOWN'\n"
   ]
  },
  {
   "cell_type": "code",
   "execution_count": 268,
   "metadata": {},
   "outputs": [
    {
     "data": {
      "text/plain": [
       "2405"
      ]
     },
     "execution_count": 268,
     "metadata": {},
     "output_type": "execute_result"
    }
   ],
   "source": [
    "attacks['type'].isnull().sum()"
   ]
  },
  {
   "cell_type": "code",
   "execution_count": 269,
   "metadata": {},
   "outputs": [
    {
     "data": {
      "text/plain": [
       "Unprovoked      4595\n",
       "Provoked         574\n",
       "Invalid          547\n",
       "Sea Disaster     239\n",
       "Boating          203\n",
       "Boat             137\n",
       "Questionable       2\n",
       "Boatomg            1\n",
       "Name: type, dtype: int64"
      ]
     },
     "execution_count": 269,
     "metadata": {},
     "output_type": "execute_result"
    }
   ],
   "source": [
    "attacks['type'].value_counts()"
   ]
  },
  {
   "cell_type": "code",
   "execution_count": 270,
   "metadata": {},
   "outputs": [],
   "source": [
    "attacks['type'].replace('Invalid','UNKNOWN', inplace=True)\n",
    "attacks['type'].replace('Sea Disaster','UNKNOWN', inplace=True)\n",
    "attacks['type'].replace('Boating','UNKNOWN', inplace=True)\n",
    "attacks['type'].replace('Boat','UNKNOWN', inplace=True)\n",
    "attacks['type'].replace('Questionable','UNKNOWN', inplace=True)\n",
    "attacks['type'].replace('Boatomg ','UNKNOWN', inplace=True)\n",
    "attacks['type'] = attacks['type'].str.upper() \n"
   ]
  },
  {
   "cell_type": "code",
   "execution_count": 271,
   "metadata": {},
   "outputs": [
    {
     "data": {
      "text/plain": [
       "2940"
      ]
     },
     "execution_count": 271,
     "metadata": {},
     "output_type": "execute_result"
    }
   ],
   "source": [
    "attacks['fatal_(y/n)'].isnull().sum()"
   ]
  },
  {
   "cell_type": "code",
   "execution_count": 272,
   "metadata": {},
   "outputs": [
    {
     "data": {
      "text/plain": [
       "N          4293\n",
       "Y          1388\n",
       "UNKNOWN      71\n",
       " N            7\n",
       "2017          1\n",
       "N             1\n",
       "y             1\n",
       "M             1\n",
       "Name: fatal_(y/n), dtype: int64"
      ]
     },
     "execution_count": 272,
     "metadata": {},
     "output_type": "execute_result"
    }
   ],
   "source": [
    "attacks['fatal_(y/n)'].value_counts()"
   ]
  },
  {
   "cell_type": "code",
   "execution_count": 273,
   "metadata": {},
   "outputs": [],
   "source": [
    "attacks['fatal_(y/n)'].replace(' N','N', inplace=True)\n",
    "attacks['fatal_(y/n)'].replace('N ','N', inplace=True)\n",
    "attacks['fatal_(y/n)'].replace('M','N', inplace=True)\n",
    "attacks['fatal_(y/n)'].replace('y','Y', inplace=True)\n",
    "attacks['fatal_(y/n)'].replace('2017','UNKNOWN', inplace=True)\n",
    "attacks['fatal_(y/n)'] = attacks['fatal_(y/n)'].str.upper()\n",
    "\n",
    "\n",
    "#data['trany'] = data['trany'].str.replace('-', '')\n",
    "#qual a dif do que usei?"
   ]
  },
  {
   "cell_type": "code",
   "execution_count": 274,
   "metadata": {},
   "outputs": [
    {
     "data": {
      "text/plain": [
       "5232"
      ]
     },
     "execution_count": 274,
     "metadata": {},
     "output_type": "execute_result"
    }
   ],
   "source": [
    "attacks['age'].isnull().sum()"
   ]
  },
  {
   "cell_type": "code",
   "execution_count": 275,
   "metadata": {
    "scrolled": true
   },
   "outputs": [
    {
     "data": {
      "text/plain": [
       "17                         154\n",
       "18                         150\n",
       "19                         142\n",
       "20                         141\n",
       "15                         139\n",
       "                          ... \n",
       "37, 67, 35, 27,  ? & 27      1\n",
       "74                           1\n",
       "28 & 26                      1\n",
       "30 & 32                      1\n",
       "21 or 26                     1\n",
       "Name: age, Length: 157, dtype: int64"
      ]
     },
     "execution_count": 275,
     "metadata": {},
     "output_type": "execute_result"
    }
   ],
   "source": [
    "attacks['age'].value_counts()"
   ]
  },
  {
   "cell_type": "code",
   "execution_count": 276,
   "metadata": {
    "scrolled": true
   },
   "outputs": [
    {
     "data": {
      "text/plain": [
       "dtype('O')"
      ]
     },
     "execution_count": 276,
     "metadata": {},
     "output_type": "execute_result"
    }
   ],
   "source": [
    "attacks['age'].dtypes"
   ]
  },
  {
   "cell_type": "code",
   "execution_count": 277,
   "metadata": {},
   "outputs": [
    {
     "data": {
      "text/plain": [
       "False"
      ]
     },
     "execution_count": 277,
     "metadata": {},
     "output_type": "execute_result"
    }
   ],
   "source": [
    "attacks['age'].dtypes == 'float64'"
   ]
  },
  {
   "cell_type": "code",
   "execution_count": 278,
   "metadata": {},
   "outputs": [
    {
     "data": {
      "text/plain": [
       "False"
      ]
     },
     "execution_count": 278,
     "metadata": {},
     "output_type": "execute_result"
    }
   ],
   "source": [
    "attacks['age'].dtypes == 'int64'"
   ]
  },
  {
   "cell_type": "code",
   "execution_count": 279,
   "metadata": {},
   "outputs": [
    {
     "data": {
      "text/plain": [
       "True"
      ]
     },
     "execution_count": 279,
     "metadata": {},
     "output_type": "execute_result"
    }
   ],
   "source": [
    "attacks['age'].dtypes == 'object'"
   ]
  },
  {
   "cell_type": "code",
   "execution_count": 280,
   "metadata": {},
   "outputs": [],
   "source": [
    "attacks['age'].fillna(999, inplace=True)"
   ]
  },
  {
   "cell_type": "code",
   "execution_count": 281,
   "metadata": {},
   "outputs": [],
   "source": [
    "#attacks['age'] = attacks['age'].astype(int) nao deu certo :(\n",
    "\n",
    "attacks['age'] = pd.to_numeric(attacks['age'], errors = 'coerce')"
   ]
  },
  {
   "cell_type": "code",
   "execution_count": 282,
   "metadata": {},
   "outputs": [
    {
     "data": {
      "text/plain": [
       "102"
      ]
     },
     "execution_count": 282,
     "metadata": {},
     "output_type": "execute_result"
    }
   ],
   "source": [
    "attacks['age'].isna().sum()"
   ]
  },
  {
   "cell_type": "code",
   "execution_count": 283,
   "metadata": {},
   "outputs": [],
   "source": [
    "attacks['age'].fillna(999, inplace=True)"
   ]
  },
  {
   "cell_type": "code",
   "execution_count": 284,
   "metadata": {},
   "outputs": [],
   "source": [
    "#-12 , 17, 25, 35, 45, 50, 55, 75+  unknown\n",
    "\n",
    "\n",
    "attacks.loc[(attacks['age'] <= 12),'age_grouped'] = '- 12'\n",
    "attacks.loc[((attacks['age'] > 12) & (attacks['age'] <= 17)),'age_grouped'] = '12 - 17'\n",
    "attacks.loc[((attacks['age'] > 17) & (attacks['age'] <= 25)),'age_grouped'] = '17 - 25'\n",
    "attacks.loc[((attacks['age'] > 25) & (attacks['age'] <= 35)),'age_grouped'] = '25 - 35'\n",
    "attacks.loc[((attacks['age'] > 35) & (attacks['age'] <= 45)),'age_grouped'] = '35 - 45'\n",
    "attacks.loc[((attacks['age'] > 45) & (attacks['age'] <= 55)),'age_grouped'] = '45 - 55'\n",
    "attacks.loc[((attacks['age'] > 55) & (attacks['age'] <= 65)),'age_grouped'] = '55 - 65'\n",
    "attacks.loc[((attacks['age'] > 65) & (attacks['age'] <= 75)),'age_grouped'] = '65 - 75'\n",
    "attacks.loc[(attacks['age'] > 75),'age_grouped'] = '75 +'\n",
    "attacks.loc[(attacks['age'] == 999),'age_grouped'] = 'UNKNOWN'\n",
    "\n"
   ]
  },
  {
   "cell_type": "code",
   "execution_count": 285,
   "metadata": {},
   "outputs": [
    {
     "data": {
      "text/html": [
       "<div>\n",
       "<style scoped>\n",
       "    .dataframe tbody tr th:only-of-type {\n",
       "        vertical-align: middle;\n",
       "    }\n",
       "\n",
       "    .dataframe tbody tr th {\n",
       "        vertical-align: top;\n",
       "    }\n",
       "\n",
       "    .dataframe thead th {\n",
       "        text-align: right;\n",
       "    }\n",
       "</style>\n",
       "<table border=\"1\" class=\"dataframe\">\n",
       "  <thead>\n",
       "    <tr style=\"text-align: right;\">\n",
       "      <th></th>\n",
       "      <th>year</th>\n",
       "      <th>type</th>\n",
       "      <th>country</th>\n",
       "      <th>area</th>\n",
       "      <th>location</th>\n",
       "      <th>activity</th>\n",
       "      <th>sex</th>\n",
       "      <th>age</th>\n",
       "      <th>fatal_(y/n)</th>\n",
       "      <th>time</th>\n",
       "      <th>year_grouped</th>\n",
       "      <th>age_grouped</th>\n",
       "    </tr>\n",
       "  </thead>\n",
       "  <tbody>\n",
       "    <tr>\n",
       "      <th>0</th>\n",
       "      <td>2018.0</td>\n",
       "      <td>UNKNOWN</td>\n",
       "      <td>USA</td>\n",
       "      <td>California</td>\n",
       "      <td>Oceanside, San Diego County</td>\n",
       "      <td>Paddling</td>\n",
       "      <td>F</td>\n",
       "      <td>57.0</td>\n",
       "      <td>N</td>\n",
       "      <td>18h00</td>\n",
       "      <td>2000 +</td>\n",
       "      <td>55 - 65</td>\n",
       "    </tr>\n",
       "    <tr>\n",
       "      <th>1</th>\n",
       "      <td>2018.0</td>\n",
       "      <td>UNPROVOKED</td>\n",
       "      <td>USA</td>\n",
       "      <td>Georgia</td>\n",
       "      <td>St. Simon Island, Glynn County</td>\n",
       "      <td>Standing</td>\n",
       "      <td>F</td>\n",
       "      <td>11.0</td>\n",
       "      <td>N</td>\n",
       "      <td>14h00  -15h00</td>\n",
       "      <td>2000 +</td>\n",
       "      <td>- 12</td>\n",
       "    </tr>\n",
       "    <tr>\n",
       "      <th>2</th>\n",
       "      <td>2018.0</td>\n",
       "      <td>UNKNOWN</td>\n",
       "      <td>USA</td>\n",
       "      <td>Hawaii</td>\n",
       "      <td>Habush, Oahu</td>\n",
       "      <td>Surfing</td>\n",
       "      <td>M</td>\n",
       "      <td>48.0</td>\n",
       "      <td>N</td>\n",
       "      <td>07h45</td>\n",
       "      <td>2000 +</td>\n",
       "      <td>45 - 55</td>\n",
       "    </tr>\n",
       "    <tr>\n",
       "      <th>3</th>\n",
       "      <td>2018.0</td>\n",
       "      <td>UNPROVOKED</td>\n",
       "      <td>AUSTRALIA</td>\n",
       "      <td>New South Wales</td>\n",
       "      <td>Arrawarra Headland</td>\n",
       "      <td>Surfing</td>\n",
       "      <td>M</td>\n",
       "      <td>999.0</td>\n",
       "      <td>N</td>\n",
       "      <td>NaN</td>\n",
       "      <td>2000 +</td>\n",
       "      <td>UNKNOWN</td>\n",
       "    </tr>\n",
       "    <tr>\n",
       "      <th>4</th>\n",
       "      <td>2018.0</td>\n",
       "      <td>PROVOKED</td>\n",
       "      <td>MEXICO</td>\n",
       "      <td>Colima</td>\n",
       "      <td>La Ticla</td>\n",
       "      <td>Free diving</td>\n",
       "      <td>M</td>\n",
       "      <td>999.0</td>\n",
       "      <td>N</td>\n",
       "      <td>NaN</td>\n",
       "      <td>2000 +</td>\n",
       "      <td>UNKNOWN</td>\n",
       "    </tr>\n",
       "  </tbody>\n",
       "</table>\n",
       "</div>"
      ],
      "text/plain": [
       "     year        type    country             area  \\\n",
       "0  2018.0     UNKNOWN        USA       California   \n",
       "1  2018.0  UNPROVOKED        USA          Georgia   \n",
       "2  2018.0     UNKNOWN        USA           Hawaii   \n",
       "3  2018.0  UNPROVOKED  AUSTRALIA  New South Wales   \n",
       "4  2018.0    PROVOKED     MEXICO           Colima   \n",
       "\n",
       "                         location     activity sex    age fatal_(y/n)  \\\n",
       "0     Oceanside, San Diego County     Paddling   F   57.0           N   \n",
       "1  St. Simon Island, Glynn County     Standing   F   11.0           N   \n",
       "2                    Habush, Oahu      Surfing   M   48.0           N   \n",
       "3              Arrawarra Headland      Surfing   M  999.0           N   \n",
       "4                        La Ticla  Free diving   M  999.0           N   \n",
       "\n",
       "            time year_grouped age_grouped  \n",
       "0          18h00       2000 +     55 - 65  \n",
       "1  14h00  -15h00       2000 +        - 12  \n",
       "2          07h45       2000 +     45 - 55  \n",
       "3            NaN       2000 +     UNKNOWN  \n",
       "4            NaN       2000 +     UNKNOWN  "
      ]
     },
     "execution_count": 285,
     "metadata": {},
     "output_type": "execute_result"
    }
   ],
   "source": [
    "attacks.head()"
   ]
  },
  {
   "cell_type": "code",
   "execution_count": 286,
   "metadata": {},
   "outputs": [],
   "source": [
    "attacks.drop(columns=['year','age'], inplace=True,)\n"
   ]
  },
  {
   "cell_type": "code",
   "execution_count": 287,
   "metadata": {},
   "outputs": [
    {
     "data": {
      "text/html": [
       "<div>\n",
       "<style scoped>\n",
       "    .dataframe tbody tr th:only-of-type {\n",
       "        vertical-align: middle;\n",
       "    }\n",
       "\n",
       "    .dataframe tbody tr th {\n",
       "        vertical-align: top;\n",
       "    }\n",
       "\n",
       "    .dataframe thead th {\n",
       "        text-align: right;\n",
       "    }\n",
       "</style>\n",
       "<table border=\"1\" class=\"dataframe\">\n",
       "  <thead>\n",
       "    <tr style=\"text-align: right;\">\n",
       "      <th></th>\n",
       "      <th>type</th>\n",
       "      <th>country</th>\n",
       "      <th>area</th>\n",
       "      <th>location</th>\n",
       "      <th>activity</th>\n",
       "      <th>sex</th>\n",
       "      <th>fatal_(y/n)</th>\n",
       "      <th>time</th>\n",
       "      <th>year_grouped</th>\n",
       "      <th>age_grouped</th>\n",
       "    </tr>\n",
       "  </thead>\n",
       "  <tbody>\n",
       "    <tr>\n",
       "      <th>0</th>\n",
       "      <td>UNKNOWN</td>\n",
       "      <td>USA</td>\n",
       "      <td>California</td>\n",
       "      <td>Oceanside, San Diego County</td>\n",
       "      <td>Paddling</td>\n",
       "      <td>F</td>\n",
       "      <td>N</td>\n",
       "      <td>18h00</td>\n",
       "      <td>2000 +</td>\n",
       "      <td>55 - 65</td>\n",
       "    </tr>\n",
       "    <tr>\n",
       "      <th>1</th>\n",
       "      <td>UNPROVOKED</td>\n",
       "      <td>USA</td>\n",
       "      <td>Georgia</td>\n",
       "      <td>St. Simon Island, Glynn County</td>\n",
       "      <td>Standing</td>\n",
       "      <td>F</td>\n",
       "      <td>N</td>\n",
       "      <td>14h00  -15h00</td>\n",
       "      <td>2000 +</td>\n",
       "      <td>- 12</td>\n",
       "    </tr>\n",
       "    <tr>\n",
       "      <th>2</th>\n",
       "      <td>UNKNOWN</td>\n",
       "      <td>USA</td>\n",
       "      <td>Hawaii</td>\n",
       "      <td>Habush, Oahu</td>\n",
       "      <td>Surfing</td>\n",
       "      <td>M</td>\n",
       "      <td>N</td>\n",
       "      <td>07h45</td>\n",
       "      <td>2000 +</td>\n",
       "      <td>45 - 55</td>\n",
       "    </tr>\n",
       "    <tr>\n",
       "      <th>3</th>\n",
       "      <td>UNPROVOKED</td>\n",
       "      <td>AUSTRALIA</td>\n",
       "      <td>New South Wales</td>\n",
       "      <td>Arrawarra Headland</td>\n",
       "      <td>Surfing</td>\n",
       "      <td>M</td>\n",
       "      <td>N</td>\n",
       "      <td>NaN</td>\n",
       "      <td>2000 +</td>\n",
       "      <td>UNKNOWN</td>\n",
       "    </tr>\n",
       "    <tr>\n",
       "      <th>4</th>\n",
       "      <td>PROVOKED</td>\n",
       "      <td>MEXICO</td>\n",
       "      <td>Colima</td>\n",
       "      <td>La Ticla</td>\n",
       "      <td>Free diving</td>\n",
       "      <td>M</td>\n",
       "      <td>N</td>\n",
       "      <td>NaN</td>\n",
       "      <td>2000 +</td>\n",
       "      <td>UNKNOWN</td>\n",
       "    </tr>\n",
       "  </tbody>\n",
       "</table>\n",
       "</div>"
      ],
      "text/plain": [
       "         type    country             area                        location  \\\n",
       "0     UNKNOWN        USA       California     Oceanside, San Diego County   \n",
       "1  UNPROVOKED        USA          Georgia  St. Simon Island, Glynn County   \n",
       "2     UNKNOWN        USA           Hawaii                    Habush, Oahu   \n",
       "3  UNPROVOKED  AUSTRALIA  New South Wales              Arrawarra Headland   \n",
       "4    PROVOKED     MEXICO           Colima                        La Ticla   \n",
       "\n",
       "      activity sex fatal_(y/n)           time year_grouped age_grouped  \n",
       "0     Paddling   F           N          18h00       2000 +     55 - 65  \n",
       "1     Standing   F           N  14h00  -15h00       2000 +        - 12  \n",
       "2      Surfing   M           N          07h45       2000 +     45 - 55  \n",
       "3      Surfing   M           N            NaN       2000 +     UNKNOWN  \n",
       "4  Free diving   M           N            NaN       2000 +     UNKNOWN  "
      ]
     },
     "execution_count": 287,
     "metadata": {},
     "output_type": "execute_result"
    }
   ],
   "source": [
    "attacks.head()"
   ]
  },
  {
   "cell_type": "code",
   "execution_count": 288,
   "metadata": {
    "scrolled": true
   },
   "outputs": [
    {
     "data": {
      "text/html": [
       "<div>\n",
       "<style scoped>\n",
       "    .dataframe tbody tr th:only-of-type {\n",
       "        vertical-align: middle;\n",
       "    }\n",
       "\n",
       "    .dataframe tbody tr th {\n",
       "        vertical-align: top;\n",
       "    }\n",
       "\n",
       "    .dataframe thead th {\n",
       "        text-align: right;\n",
       "    }\n",
       "</style>\n",
       "<table border=\"1\" class=\"dataframe\">\n",
       "  <thead>\n",
       "    <tr style=\"text-align: right;\">\n",
       "      <th></th>\n",
       "      <th>sex</th>\n",
       "      <th>age_grouped</th>\n",
       "      <th>country</th>\n",
       "      <th>area</th>\n",
       "      <th>location</th>\n",
       "      <th>activity</th>\n",
       "      <th>time</th>\n",
       "      <th>type</th>\n",
       "      <th>fatal_(y/n)</th>\n",
       "      <th>year_grouped</th>\n",
       "    </tr>\n",
       "  </thead>\n",
       "  <tbody>\n",
       "    <tr>\n",
       "      <th>0</th>\n",
       "      <td>F</td>\n",
       "      <td>55 - 65</td>\n",
       "      <td>USA</td>\n",
       "      <td>California</td>\n",
       "      <td>Oceanside, San Diego County</td>\n",
       "      <td>Paddling</td>\n",
       "      <td>18h00</td>\n",
       "      <td>UNKNOWN</td>\n",
       "      <td>N</td>\n",
       "      <td>2000 +</td>\n",
       "    </tr>\n",
       "    <tr>\n",
       "      <th>1</th>\n",
       "      <td>F</td>\n",
       "      <td>- 12</td>\n",
       "      <td>USA</td>\n",
       "      <td>Georgia</td>\n",
       "      <td>St. Simon Island, Glynn County</td>\n",
       "      <td>Standing</td>\n",
       "      <td>14h00  -15h00</td>\n",
       "      <td>UNPROVOKED</td>\n",
       "      <td>N</td>\n",
       "      <td>2000 +</td>\n",
       "    </tr>\n",
       "    <tr>\n",
       "      <th>2</th>\n",
       "      <td>M</td>\n",
       "      <td>45 - 55</td>\n",
       "      <td>USA</td>\n",
       "      <td>Hawaii</td>\n",
       "      <td>Habush, Oahu</td>\n",
       "      <td>Surfing</td>\n",
       "      <td>07h45</td>\n",
       "      <td>UNKNOWN</td>\n",
       "      <td>N</td>\n",
       "      <td>2000 +</td>\n",
       "    </tr>\n",
       "    <tr>\n",
       "      <th>3</th>\n",
       "      <td>M</td>\n",
       "      <td>UNKNOWN</td>\n",
       "      <td>AUSTRALIA</td>\n",
       "      <td>New South Wales</td>\n",
       "      <td>Arrawarra Headland</td>\n",
       "      <td>Surfing</td>\n",
       "      <td>NaN</td>\n",
       "      <td>UNPROVOKED</td>\n",
       "      <td>N</td>\n",
       "      <td>2000 +</td>\n",
       "    </tr>\n",
       "    <tr>\n",
       "      <th>4</th>\n",
       "      <td>M</td>\n",
       "      <td>UNKNOWN</td>\n",
       "      <td>MEXICO</td>\n",
       "      <td>Colima</td>\n",
       "      <td>La Ticla</td>\n",
       "      <td>Free diving</td>\n",
       "      <td>NaN</td>\n",
       "      <td>PROVOKED</td>\n",
       "      <td>N</td>\n",
       "      <td>2000 +</td>\n",
       "    </tr>\n",
       "    <tr>\n",
       "      <th>5</th>\n",
       "      <td>M</td>\n",
       "      <td>UNKNOWN</td>\n",
       "      <td>AUSTRALIA</td>\n",
       "      <td>New South Wales</td>\n",
       "      <td>Flat Rock, Ballina</td>\n",
       "      <td>Kite surfing</td>\n",
       "      <td>NaN</td>\n",
       "      <td>UNPROVOKED</td>\n",
       "      <td>N</td>\n",
       "      <td>2000 +</td>\n",
       "    </tr>\n",
       "    <tr>\n",
       "      <th>6</th>\n",
       "      <td>M</td>\n",
       "      <td>17 - 25</td>\n",
       "      <td>BRAZIL</td>\n",
       "      <td>Pernambuco</td>\n",
       "      <td>Piedade Beach, Recife</td>\n",
       "      <td>Swimming</td>\n",
       "      <td>Late afternoon</td>\n",
       "      <td>UNPROVOKED</td>\n",
       "      <td>Y</td>\n",
       "      <td>2000 +</td>\n",
       "    </tr>\n",
       "    <tr>\n",
       "      <th>7</th>\n",
       "      <td>M</td>\n",
       "      <td>45 - 55</td>\n",
       "      <td>USA</td>\n",
       "      <td>Florida</td>\n",
       "      <td>Lighhouse Point Park, Ponce Inlet, Volusia County</td>\n",
       "      <td>Fishing</td>\n",
       "      <td>NaN</td>\n",
       "      <td>UNPROVOKED</td>\n",
       "      <td>N</td>\n",
       "      <td>2000 +</td>\n",
       "    </tr>\n",
       "    <tr>\n",
       "      <th>8</th>\n",
       "      <td>M</td>\n",
       "      <td>12 - 17</td>\n",
       "      <td>USA</td>\n",
       "      <td>Florida</td>\n",
       "      <td>Cocoa Beach, Brevard  County</td>\n",
       "      <td>Walking</td>\n",
       "      <td>17h00</td>\n",
       "      <td>UNPROVOKED</td>\n",
       "      <td>N</td>\n",
       "      <td>2000 +</td>\n",
       "    </tr>\n",
       "    <tr>\n",
       "      <th>9</th>\n",
       "      <td>M</td>\n",
       "      <td>- 12</td>\n",
       "      <td>USA</td>\n",
       "      <td>Florida</td>\n",
       "      <td>Daytona Beach, Volusia County</td>\n",
       "      <td>Standing</td>\n",
       "      <td>14h00</td>\n",
       "      <td>UNPROVOKED</td>\n",
       "      <td>N</td>\n",
       "      <td>2000 +</td>\n",
       "    </tr>\n",
       "    <tr>\n",
       "      <th>10</th>\n",
       "      <td>M</td>\n",
       "      <td>25 - 35</td>\n",
       "      <td>AUSTRALIA</td>\n",
       "      <td>Queensland</td>\n",
       "      <td>Cairns Aquarium</td>\n",
       "      <td>Feeding sharks</td>\n",
       "      <td>Morning</td>\n",
       "      <td>PROVOKED</td>\n",
       "      <td>N</td>\n",
       "      <td>2000 +</td>\n",
       "    </tr>\n",
       "    <tr>\n",
       "      <th>11</th>\n",
       "      <td>M</td>\n",
       "      <td>- 12</td>\n",
       "      <td>USA</td>\n",
       "      <td>South Carolina</td>\n",
       "      <td>Isle of Palms,  Charleston County</td>\n",
       "      <td>Boogie boarding</td>\n",
       "      <td>NaN</td>\n",
       "      <td>UNPROVOKED</td>\n",
       "      <td>N</td>\n",
       "      <td>2000 +</td>\n",
       "    </tr>\n",
       "    <tr>\n",
       "      <th>12</th>\n",
       "      <td>M</td>\n",
       "      <td>- 12</td>\n",
       "      <td>USA</td>\n",
       "      <td>South Carolina</td>\n",
       "      <td>Hilton Head Island, Beaufort County</td>\n",
       "      <td>Swimming</td>\n",
       "      <td>15h00</td>\n",
       "      <td>UNPROVOKED</td>\n",
       "      <td>N</td>\n",
       "      <td>2000 +</td>\n",
       "    </tr>\n",
       "    <tr>\n",
       "      <th>13</th>\n",
       "      <td>M</td>\n",
       "      <td>17 - 25</td>\n",
       "      <td>ENGLAND</td>\n",
       "      <td>Cornwall</td>\n",
       "      <td>Off Land's End</td>\n",
       "      <td>Fishing</td>\n",
       "      <td>08h15</td>\n",
       "      <td>UNKNOWN</td>\n",
       "      <td>N</td>\n",
       "      <td>2000 +</td>\n",
       "    </tr>\n",
       "    <tr>\n",
       "      <th>14</th>\n",
       "      <td>F</td>\n",
       "      <td>25 - 35</td>\n",
       "      <td>AUSTRALIA</td>\n",
       "      <td>Westerm Australia</td>\n",
       "      <td>Dugong Bay</td>\n",
       "      <td>Feeding sharks</td>\n",
       "      <td>NaN</td>\n",
       "      <td>PROVOKED</td>\n",
       "      <td>N</td>\n",
       "      <td>2000 +</td>\n",
       "    </tr>\n",
       "    <tr>\n",
       "      <th>15</th>\n",
       "      <td>M</td>\n",
       "      <td>UNKNOWN</td>\n",
       "      <td>SOUTH AFRICA</td>\n",
       "      <td>Eastern Cape Province</td>\n",
       "      <td>Nahoon Beach, East London</td>\n",
       "      <td>Surfing</td>\n",
       "      <td>11h00</td>\n",
       "      <td>UNPROVOKED</td>\n",
       "      <td>N</td>\n",
       "      <td>2000 +</td>\n",
       "    </tr>\n",
       "    <tr>\n",
       "      <th>16</th>\n",
       "      <td>M</td>\n",
       "      <td>UNKNOWN</td>\n",
       "      <td>AUSTRALIA</td>\n",
       "      <td>New South Wales</td>\n",
       "      <td>Sharpes Beach, Ballina</td>\n",
       "      <td>Surfing</td>\n",
       "      <td>10h30</td>\n",
       "      <td>UNKNOWN</td>\n",
       "      <td>N</td>\n",
       "      <td>2000 +</td>\n",
       "    </tr>\n",
       "    <tr>\n",
       "      <th>17</th>\n",
       "      <td>M</td>\n",
       "      <td>UNKNOWN</td>\n",
       "      <td>THAILAND</td>\n",
       "      <td>Hua Hin</td>\n",
       "      <td>Sai Noi Beach</td>\n",
       "      <td>Swimming</td>\n",
       "      <td>NaN</td>\n",
       "      <td>UNPROVOKED</td>\n",
       "      <td>N</td>\n",
       "      <td>2000 +</td>\n",
       "    </tr>\n",
       "    <tr>\n",
       "      <th>18</th>\n",
       "      <td>M</td>\n",
       "      <td>25 - 35</td>\n",
       "      <td>COSTA RICA</td>\n",
       "      <td>Cocos Island</td>\n",
       "      <td>Manuelita</td>\n",
       "      <td>Scuba diving</td>\n",
       "      <td>10h40</td>\n",
       "      <td>UNPROVOKED</td>\n",
       "      <td>N</td>\n",
       "      <td>2000 +</td>\n",
       "    </tr>\n",
       "    <tr>\n",
       "      <th>19</th>\n",
       "      <td>M</td>\n",
       "      <td>UNKNOWN</td>\n",
       "      <td>AUSTRALIA</td>\n",
       "      <td>Western Australia</td>\n",
       "      <td>Gearys Beach</td>\n",
       "      <td>Surfing</td>\n",
       "      <td>16h50</td>\n",
       "      <td>UNPROVOKED</td>\n",
       "      <td>N</td>\n",
       "      <td>2000 +</td>\n",
       "    </tr>\n",
       "    <tr>\n",
       "      <th>20</th>\n",
       "      <td>M</td>\n",
       "      <td>UNKNOWN</td>\n",
       "      <td>AUSTRALIA</td>\n",
       "      <td>New South Wales</td>\n",
       "      <td>Lennox Head</td>\n",
       "      <td>Surfing</td>\n",
       "      <td>07h00</td>\n",
       "      <td>UNKNOWN</td>\n",
       "      <td>N</td>\n",
       "      <td>2000 +</td>\n",
       "    </tr>\n",
       "    <tr>\n",
       "      <th>21</th>\n",
       "      <td>M</td>\n",
       "      <td>55 - 65</td>\n",
       "      <td>AUSTRALIA</td>\n",
       "      <td>Western Australia</td>\n",
       "      <td>Surfers Point, Prevelly</td>\n",
       "      <td>Surfing</td>\n",
       "      <td>09h30</td>\n",
       "      <td>UNPROVOKED</td>\n",
       "      <td>N</td>\n",
       "      <td>2000 +</td>\n",
       "    </tr>\n",
       "    <tr>\n",
       "      <th>22</th>\n",
       "      <td>M</td>\n",
       "      <td>UNKNOWN</td>\n",
       "      <td>AUSTRALIA</td>\n",
       "      <td>Western Australia</td>\n",
       "      <td>South Point, Gracetown</td>\n",
       "      <td>Surfing</td>\n",
       "      <td>Afternoon</td>\n",
       "      <td>UNPROVOKED</td>\n",
       "      <td>N</td>\n",
       "      <td>2000 +</td>\n",
       "    </tr>\n",
       "    <tr>\n",
       "      <th>23</th>\n",
       "      <td>M</td>\n",
       "      <td>25 - 35</td>\n",
       "      <td>MALDIVES</td>\n",
       "      <td>Alifu Alifu Atoll</td>\n",
       "      <td>Madoogali</td>\n",
       "      <td>Fishing</td>\n",
       "      <td>21h50</td>\n",
       "      <td>UNPROVOKED</td>\n",
       "      <td>N</td>\n",
       "      <td>2000 +</td>\n",
       "    </tr>\n",
       "    <tr>\n",
       "      <th>24</th>\n",
       "      <td>M</td>\n",
       "      <td>25 - 35</td>\n",
       "      <td>SOUTH AFRICA</td>\n",
       "      <td>Western Cape Province</td>\n",
       "      <td>Robberg Beach, Plettenberg Bay</td>\n",
       "      <td>Paddle-skiing</td>\n",
       "      <td>09h40</td>\n",
       "      <td>UNPROVOKED</td>\n",
       "      <td>N</td>\n",
       "      <td>2000 +</td>\n",
       "    </tr>\n",
       "    <tr>\n",
       "      <th>25</th>\n",
       "      <td>M</td>\n",
       "      <td>25 - 35</td>\n",
       "      <td>USA</td>\n",
       "      <td>Hawaii</td>\n",
       "      <td>Shipwrecks Beach, Keoneloa Bay, Kauai</td>\n",
       "      <td>Body boarding</td>\n",
       "      <td>NaN</td>\n",
       "      <td>UNPROVOKED</td>\n",
       "      <td>N</td>\n",
       "      <td>2000 +</td>\n",
       "    </tr>\n",
       "    <tr>\n",
       "      <th>26</th>\n",
       "      <td>M</td>\n",
       "      <td>45 - 55</td>\n",
       "      <td>THAILAND</td>\n",
       "      <td>Hua Hin</td>\n",
       "      <td>Sai Noi Beach</td>\n",
       "      <td>Swimming</td>\n",
       "      <td>NaN</td>\n",
       "      <td>UNPROVOKED</td>\n",
       "      <td>N</td>\n",
       "      <td>2000 +</td>\n",
       "    </tr>\n",
       "    <tr>\n",
       "      <th>27</th>\n",
       "      <td>M</td>\n",
       "      <td>25 - 35</td>\n",
       "      <td>BRAZIL</td>\n",
       "      <td>Pernambuco</td>\n",
       "      <td>Piedade</td>\n",
       "      <td>Swimming</td>\n",
       "      <td>NaN</td>\n",
       "      <td>UNPROVOKED</td>\n",
       "      <td>NaN</td>\n",
       "      <td>2000 +</td>\n",
       "    </tr>\n",
       "    <tr>\n",
       "      <th>28</th>\n",
       "      <td>M</td>\n",
       "      <td>35 - 45</td>\n",
       "      <td>AUSTRALIA</td>\n",
       "      <td>Western Australia</td>\n",
       "      <td>Lefthanders, Margaret River Area</td>\n",
       "      <td>Surfing</td>\n",
       "      <td>NaN</td>\n",
       "      <td>UNPROVOKED</td>\n",
       "      <td>N</td>\n",
       "      <td>2000 +</td>\n",
       "    </tr>\n",
       "    <tr>\n",
       "      <th>29</th>\n",
       "      <td>M</td>\n",
       "      <td>35 - 45</td>\n",
       "      <td>AUSTRALIA</td>\n",
       "      <td>Western Australia</td>\n",
       "      <td>Cobblestones, Margaret River Area</td>\n",
       "      <td>Surfing</td>\n",
       "      <td>08h00</td>\n",
       "      <td>UNPROVOKED</td>\n",
       "      <td>N</td>\n",
       "      <td>2000 +</td>\n",
       "    </tr>\n",
       "    <tr>\n",
       "      <th>30</th>\n",
       "      <td>M</td>\n",
       "      <td>UNKNOWN</td>\n",
       "      <td>BAHAMAS</td>\n",
       "      <td>New Providence</td>\n",
       "      <td>Nirvana Beach</td>\n",
       "      <td>Surfing</td>\n",
       "      <td>09h30</td>\n",
       "      <td>UNPROVOKED</td>\n",
       "      <td>N</td>\n",
       "      <td>2000 +</td>\n",
       "    </tr>\n",
       "    <tr>\n",
       "      <th>31</th>\n",
       "      <td>M</td>\n",
       "      <td>55 - 65</td>\n",
       "      <td>BRAZIL</td>\n",
       "      <td>Alagoas</td>\n",
       "      <td>Praia de Sauaçuhy, Maceió</td>\n",
       "      <td>Fishing</td>\n",
       "      <td>NaN</td>\n",
       "      <td>UNKNOWN</td>\n",
       "      <td>N</td>\n",
       "      <td>2000 +</td>\n",
       "    </tr>\n",
       "    <tr>\n",
       "      <th>32</th>\n",
       "      <td>NaN</td>\n",
       "      <td>UNKNOWN</td>\n",
       "      <td>NEW CALEDONIA</td>\n",
       "      <td>NaN</td>\n",
       "      <td>Magenta Beach, Noumea</td>\n",
       "      <td>Windsurfing</td>\n",
       "      <td>17h00</td>\n",
       "      <td>UNPROVOKED</td>\n",
       "      <td>N</td>\n",
       "      <td>2000 +</td>\n",
       "    </tr>\n",
       "    <tr>\n",
       "      <th>33</th>\n",
       "      <td>M</td>\n",
       "      <td>- 12</td>\n",
       "      <td>BAHAMAS</td>\n",
       "      <td>NaN</td>\n",
       "      <td>Bimini</td>\n",
       "      <td>Swimming</td>\n",
       "      <td>18h00</td>\n",
       "      <td>UNPROVOKED</td>\n",
       "      <td>N</td>\n",
       "      <td>2000 +</td>\n",
       "    </tr>\n",
       "    <tr>\n",
       "      <th>34</th>\n",
       "      <td>M</td>\n",
       "      <td>17 - 25</td>\n",
       "      <td>SOUTH AFRICA</td>\n",
       "      <td>Eastern Cape Province</td>\n",
       "      <td>St. Francis Bay</td>\n",
       "      <td>Surfing</td>\n",
       "      <td>15h00</td>\n",
       "      <td>UNPROVOKED</td>\n",
       "      <td>N</td>\n",
       "      <td>2000 +</td>\n",
       "    </tr>\n",
       "    <tr>\n",
       "      <th>35</th>\n",
       "      <td>M</td>\n",
       "      <td>17 - 25</td>\n",
       "      <td>USA</td>\n",
       "      <td>Hawaii</td>\n",
       "      <td>Kukio Beach</td>\n",
       "      <td>Stand-Up Paddleboarding</td>\n",
       "      <td>09h30</td>\n",
       "      <td>UNPROVOKED</td>\n",
       "      <td>N</td>\n",
       "      <td>2000 +</td>\n",
       "    </tr>\n",
       "    <tr>\n",
       "      <th>36</th>\n",
       "      <td>M</td>\n",
       "      <td>- 12</td>\n",
       "      <td>AUSTRALIA</td>\n",
       "      <td>Western Australia</td>\n",
       "      <td>Waterman's Bay</td>\n",
       "      <td>Wading</td>\n",
       "      <td>17h35</td>\n",
       "      <td>UNPROVOKED</td>\n",
       "      <td>N</td>\n",
       "      <td>2000 +</td>\n",
       "    </tr>\n",
       "    <tr>\n",
       "      <th>37</th>\n",
       "      <td>M</td>\n",
       "      <td>65 - 75</td>\n",
       "      <td>AUSTRALIA</td>\n",
       "      <td>Victoria</td>\n",
       "      <td>Lorne</td>\n",
       "      <td>Swimming</td>\n",
       "      <td>15h30</td>\n",
       "      <td>UNPROVOKED</td>\n",
       "      <td>N</td>\n",
       "      <td>2000 +</td>\n",
       "    </tr>\n",
       "    <tr>\n",
       "      <th>38</th>\n",
       "      <td>M</td>\n",
       "      <td>17 - 25</td>\n",
       "      <td>AUSTRALIA</td>\n",
       "      <td>Victoria</td>\n",
       "      <td>Winkipop</td>\n",
       "      <td>Surfing</td>\n",
       "      <td>07h30</td>\n",
       "      <td>UNPROVOKED</td>\n",
       "      <td>N</td>\n",
       "      <td>2000 +</td>\n",
       "    </tr>\n",
       "    <tr>\n",
       "      <th>39</th>\n",
       "      <td>M</td>\n",
       "      <td>35 - 45</td>\n",
       "      <td>SOUTH AFRICA</td>\n",
       "      <td>KwaZulu-Natal</td>\n",
       "      <td>Durban</td>\n",
       "      <td>Scuba Diving</td>\n",
       "      <td>NaN</td>\n",
       "      <td>UNPROVOKED</td>\n",
       "      <td>N</td>\n",
       "      <td>2000 +</td>\n",
       "    </tr>\n",
       "    <tr>\n",
       "      <th>40</th>\n",
       "      <td>F</td>\n",
       "      <td>45 - 55</td>\n",
       "      <td>AUSTRALIA</td>\n",
       "      <td>New South Wales</td>\n",
       "      <td>Little Congwong Beach, La Perouse</td>\n",
       "      <td>Swimming</td>\n",
       "      <td>19h00, Dusk</td>\n",
       "      <td>UNPROVOKED</td>\n",
       "      <td>N</td>\n",
       "      <td>2000 +</td>\n",
       "    </tr>\n",
       "    <tr>\n",
       "      <th>41</th>\n",
       "      <td>M</td>\n",
       "      <td>25 - 35</td>\n",
       "      <td>AUSTRALIA</td>\n",
       "      <td>Victoria</td>\n",
       "      <td>Westernport Bay</td>\n",
       "      <td>Kayak fishing for sharks</td>\n",
       "      <td>Night</td>\n",
       "      <td>PROVOKED</td>\n",
       "      <td>N</td>\n",
       "      <td>2000 +</td>\n",
       "    </tr>\n",
       "    <tr>\n",
       "      <th>42</th>\n",
       "      <td>M</td>\n",
       "      <td>25 - 35</td>\n",
       "      <td>AUSTRALIA</td>\n",
       "      <td>New South Wales</td>\n",
       "      <td>Surf Beach, Kiama</td>\n",
       "      <td>Walking</td>\n",
       "      <td>16h00</td>\n",
       "      <td>UNPROVOKED</td>\n",
       "      <td>N</td>\n",
       "      <td>2000 +</td>\n",
       "    </tr>\n",
       "    <tr>\n",
       "      <th>43</th>\n",
       "      <td>F</td>\n",
       "      <td>UNKNOWN</td>\n",
       "      <td>AUSTRALIA</td>\n",
       "      <td>Queensland</td>\n",
       "      <td>Mooloolaba Beach</td>\n",
       "      <td>Swimming</td>\n",
       "      <td>18h00</td>\n",
       "      <td>UNKNOWN</td>\n",
       "      <td>N</td>\n",
       "      <td>2000 +</td>\n",
       "    </tr>\n",
       "    <tr>\n",
       "      <th>44</th>\n",
       "      <td>F</td>\n",
       "      <td>45 - 55</td>\n",
       "      <td>BRAZIL</td>\n",
       "      <td>Boi Island, Victoria</td>\n",
       "      <td>Espirito Santo</td>\n",
       "      <td>Cleaning fish</td>\n",
       "      <td>NaN</td>\n",
       "      <td>UNKNOWN</td>\n",
       "      <td>N</td>\n",
       "      <td>2000 +</td>\n",
       "    </tr>\n",
       "    <tr>\n",
       "      <th>45</th>\n",
       "      <td>M</td>\n",
       "      <td>35 - 45</td>\n",
       "      <td>ECUADOR</td>\n",
       "      <td>Galapagos Islands</td>\n",
       "      <td>Santa Fe Island</td>\n",
       "      <td>Snorkeling</td>\n",
       "      <td>NaN</td>\n",
       "      <td>UNPROVOKED</td>\n",
       "      <td>N</td>\n",
       "      <td>2000 +</td>\n",
       "    </tr>\n",
       "    <tr>\n",
       "      <th>46</th>\n",
       "      <td>M</td>\n",
       "      <td>12 - 17</td>\n",
       "      <td>AUSTRALIA</td>\n",
       "      <td>Western Australia</td>\n",
       "      <td>Avalon Point, Manurah</td>\n",
       "      <td>Spearfishing</td>\n",
       "      <td>NaN</td>\n",
       "      <td>UNKNOWN</td>\n",
       "      <td>N</td>\n",
       "      <td>2000 +</td>\n",
       "    </tr>\n",
       "    <tr>\n",
       "      <th>47</th>\n",
       "      <td>M</td>\n",
       "      <td>17 - 25</td>\n",
       "      <td>AUSTRALIA</td>\n",
       "      <td>Western Australia</td>\n",
       "      <td>Cone Bay</td>\n",
       "      <td>NaN</td>\n",
       "      <td>08h00</td>\n",
       "      <td>UNPROVOKED</td>\n",
       "      <td>N</td>\n",
       "      <td>2000 +</td>\n",
       "    </tr>\n",
       "    <tr>\n",
       "      <th>48</th>\n",
       "      <td>M</td>\n",
       "      <td>UNKNOWN</td>\n",
       "      <td>NEW CALEDONIA</td>\n",
       "      <td>NaN</td>\n",
       "      <td>Nouville</td>\n",
       "      <td>Spearfishing</td>\n",
       "      <td>15h30</td>\n",
       "      <td>UNPROVOKED</td>\n",
       "      <td>N</td>\n",
       "      <td>2000 +</td>\n",
       "    </tr>\n",
       "    <tr>\n",
       "      <th>49</th>\n",
       "      <td>M</td>\n",
       "      <td>UNKNOWN</td>\n",
       "      <td>AUSTRALIA</td>\n",
       "      <td>Queensland</td>\n",
       "      <td>Lizard Island</td>\n",
       "      <td>Diving</td>\n",
       "      <td>15h01</td>\n",
       "      <td>UNPROVOKED</td>\n",
       "      <td>N</td>\n",
       "      <td>2000 +</td>\n",
       "    </tr>\n",
       "  </tbody>\n",
       "</table>\n",
       "</div>"
      ],
      "text/plain": [
       "    sex age_grouped        country                   area  \\\n",
       "0     F     55 - 65            USA             California   \n",
       "1     F        - 12            USA                Georgia   \n",
       "2     M     45 - 55            USA                 Hawaii   \n",
       "3     M     UNKNOWN      AUSTRALIA        New South Wales   \n",
       "4     M     UNKNOWN         MEXICO                 Colima   \n",
       "5     M     UNKNOWN      AUSTRALIA        New South Wales   \n",
       "6     M     17 - 25         BRAZIL             Pernambuco   \n",
       "7     M     45 - 55            USA                Florida   \n",
       "8     M     12 - 17            USA                Florida   \n",
       "9     M        - 12            USA                Florida   \n",
       "10    M     25 - 35      AUSTRALIA             Queensland   \n",
       "11    M        - 12            USA         South Carolina   \n",
       "12    M        - 12            USA         South Carolina   \n",
       "13    M     17 - 25        ENGLAND               Cornwall   \n",
       "14    F     25 - 35      AUSTRALIA      Westerm Australia   \n",
       "15    M     UNKNOWN   SOUTH AFRICA  Eastern Cape Province   \n",
       "16    M     UNKNOWN      AUSTRALIA        New South Wales   \n",
       "17    M     UNKNOWN       THAILAND                Hua Hin   \n",
       "18    M     25 - 35     COSTA RICA           Cocos Island   \n",
       "19    M     UNKNOWN      AUSTRALIA      Western Australia   \n",
       "20    M     UNKNOWN      AUSTRALIA        New South Wales   \n",
       "21    M     55 - 65      AUSTRALIA      Western Australia   \n",
       "22    M     UNKNOWN      AUSTRALIA      Western Australia   \n",
       "23    M     25 - 35       MALDIVES      Alifu Alifu Atoll   \n",
       "24    M     25 - 35   SOUTH AFRICA  Western Cape Province   \n",
       "25    M     25 - 35            USA                 Hawaii   \n",
       "26    M     45 - 55       THAILAND                Hua Hin   \n",
       "27    M     25 - 35         BRAZIL             Pernambuco   \n",
       "28    M     35 - 45      AUSTRALIA      Western Australia   \n",
       "29    M     35 - 45      AUSTRALIA      Western Australia   \n",
       "30    M     UNKNOWN        BAHAMAS         New Providence   \n",
       "31    M     55 - 65         BRAZIL                Alagoas   \n",
       "32  NaN     UNKNOWN  NEW CALEDONIA                    NaN   \n",
       "33    M        - 12        BAHAMAS                    NaN   \n",
       "34    M     17 - 25   SOUTH AFRICA  Eastern Cape Province   \n",
       "35    M     17 - 25            USA                 Hawaii   \n",
       "36    M        - 12      AUSTRALIA      Western Australia   \n",
       "37    M     65 - 75      AUSTRALIA               Victoria   \n",
       "38    M     17 - 25      AUSTRALIA               Victoria   \n",
       "39    M     35 - 45   SOUTH AFRICA          KwaZulu-Natal   \n",
       "40    F     45 - 55      AUSTRALIA        New South Wales   \n",
       "41    M     25 - 35      AUSTRALIA               Victoria   \n",
       "42    M     25 - 35      AUSTRALIA        New South Wales   \n",
       "43    F     UNKNOWN      AUSTRALIA             Queensland   \n",
       "44    F     45 - 55         BRAZIL   Boi Island, Victoria   \n",
       "45    M     35 - 45        ECUADOR      Galapagos Islands   \n",
       "46    M     12 - 17      AUSTRALIA      Western Australia   \n",
       "47    M     17 - 25      AUSTRALIA      Western Australia   \n",
       "48    M     UNKNOWN  NEW CALEDONIA                    NaN   \n",
       "49    M     UNKNOWN      AUSTRALIA             Queensland   \n",
       "\n",
       "                                             location  \\\n",
       "0                         Oceanside, San Diego County   \n",
       "1                      St. Simon Island, Glynn County   \n",
       "2                                        Habush, Oahu   \n",
       "3                                  Arrawarra Headland   \n",
       "4                                            La Ticla   \n",
       "5                                  Flat Rock, Ballina   \n",
       "6                               Piedade Beach, Recife   \n",
       "7   Lighhouse Point Park, Ponce Inlet, Volusia County   \n",
       "8                        Cocoa Beach, Brevard  County   \n",
       "9                       Daytona Beach, Volusia County   \n",
       "10                                    Cairns Aquarium   \n",
       "11                  Isle of Palms,  Charleston County   \n",
       "12                Hilton Head Island, Beaufort County   \n",
       "13                                     Off Land's End   \n",
       "14                                         Dugong Bay   \n",
       "15                          Nahoon Beach, East London   \n",
       "16                             Sharpes Beach, Ballina   \n",
       "17                                      Sai Noi Beach   \n",
       "18                                          Manuelita   \n",
       "19                                       Gearys Beach   \n",
       "20                                        Lennox Head   \n",
       "21                            Surfers Point, Prevelly   \n",
       "22                             South Point, Gracetown   \n",
       "23                                          Madoogali   \n",
       "24                     Robberg Beach, Plettenberg Bay   \n",
       "25             Shipwrecks Beach, Keoneloa Bay, Kauai   \n",
       "26                                      Sai Noi Beach   \n",
       "27                                            Piedade   \n",
       "28                   Lefthanders, Margaret River Area   \n",
       "29                  Cobblestones, Margaret River Area   \n",
       "30                                      Nirvana Beach   \n",
       "31                          Praia de Sauaçuhy, Maceió   \n",
       "32                              Magenta Beach, Noumea   \n",
       "33                                             Bimini   \n",
       "34                                    St. Francis Bay   \n",
       "35                                        Kukio Beach   \n",
       "36                                     Waterman's Bay   \n",
       "37                                              Lorne   \n",
       "38                                           Winkipop   \n",
       "39                                             Durban   \n",
       "40                 Little Congwong Beach, La Perouse    \n",
       "41                                    Westernport Bay   \n",
       "42                                  Surf Beach, Kiama   \n",
       "43                                   Mooloolaba Beach   \n",
       "44                                     Espirito Santo   \n",
       "45                                    Santa Fe Island   \n",
       "46                              Avalon Point, Manurah   \n",
       "47                                           Cone Bay   \n",
       "48                                           Nouville   \n",
       "49                                      Lizard Island   \n",
       "\n",
       "                    activity            time        type fatal_(y/n)  \\\n",
       "0                   Paddling           18h00     UNKNOWN           N   \n",
       "1                   Standing   14h00  -15h00  UNPROVOKED           N   \n",
       "2                    Surfing           07h45     UNKNOWN           N   \n",
       "3                    Surfing             NaN  UNPROVOKED           N   \n",
       "4                Free diving             NaN    PROVOKED           N   \n",
       "5               Kite surfing             NaN  UNPROVOKED           N   \n",
       "6                   Swimming  Late afternoon  UNPROVOKED           Y   \n",
       "7                    Fishing             NaN  UNPROVOKED           N   \n",
       "8                    Walking           17h00  UNPROVOKED           N   \n",
       "9                   Standing           14h00  UNPROVOKED           N   \n",
       "10            Feeding sharks         Morning    PROVOKED           N   \n",
       "11           Boogie boarding             NaN  UNPROVOKED           N   \n",
       "12                  Swimming           15h00  UNPROVOKED           N   \n",
       "13                   Fishing           08h15     UNKNOWN           N   \n",
       "14            Feeding sharks             NaN    PROVOKED           N   \n",
       "15                   Surfing           11h00  UNPROVOKED           N   \n",
       "16                   Surfing           10h30     UNKNOWN           N   \n",
       "17                  Swimming             NaN  UNPROVOKED           N   \n",
       "18              Scuba diving           10h40  UNPROVOKED           N   \n",
       "19                   Surfing           16h50  UNPROVOKED           N   \n",
       "20                   Surfing           07h00     UNKNOWN           N   \n",
       "21                   Surfing           09h30  UNPROVOKED           N   \n",
       "22                   Surfing       Afternoon  UNPROVOKED           N   \n",
       "23                   Fishing           21h50  UNPROVOKED           N   \n",
       "24             Paddle-skiing           09h40  UNPROVOKED           N   \n",
       "25             Body boarding             NaN  UNPROVOKED           N   \n",
       "26                  Swimming             NaN  UNPROVOKED           N   \n",
       "27                  Swimming             NaN  UNPROVOKED         NaN   \n",
       "28                   Surfing             NaN  UNPROVOKED           N   \n",
       "29                   Surfing           08h00  UNPROVOKED           N   \n",
       "30                   Surfing           09h30  UNPROVOKED           N   \n",
       "31                   Fishing             NaN     UNKNOWN           N   \n",
       "32               Windsurfing           17h00  UNPROVOKED           N   \n",
       "33                  Swimming           18h00  UNPROVOKED           N   \n",
       "34                   Surfing           15h00  UNPROVOKED           N   \n",
       "35   Stand-Up Paddleboarding           09h30  UNPROVOKED           N   \n",
       "36                    Wading           17h35  UNPROVOKED           N   \n",
       "37                  Swimming           15h30  UNPROVOKED           N   \n",
       "38                   Surfing           07h30  UNPROVOKED           N   \n",
       "39              Scuba Diving             NaN  UNPROVOKED           N   \n",
       "40                  Swimming     19h00, Dusk  UNPROVOKED           N   \n",
       "41  Kayak fishing for sharks           Night    PROVOKED           N   \n",
       "42                   Walking           16h00  UNPROVOKED           N   \n",
       "43                  Swimming           18h00     UNKNOWN           N   \n",
       "44             Cleaning fish             NaN     UNKNOWN           N   \n",
       "45                Snorkeling             NaN  UNPROVOKED           N   \n",
       "46              Spearfishing             NaN     UNKNOWN           N   \n",
       "47                       NaN           08h00  UNPROVOKED           N   \n",
       "48              Spearfishing           15h30  UNPROVOKED           N   \n",
       "49                    Diving           15h01  UNPROVOKED           N   \n",
       "\n",
       "   year_grouped  \n",
       "0        2000 +  \n",
       "1        2000 +  \n",
       "2        2000 +  \n",
       "3        2000 +  \n",
       "4        2000 +  \n",
       "5        2000 +  \n",
       "6        2000 +  \n",
       "7        2000 +  \n",
       "8        2000 +  \n",
       "9        2000 +  \n",
       "10       2000 +  \n",
       "11       2000 +  \n",
       "12       2000 +  \n",
       "13       2000 +  \n",
       "14       2000 +  \n",
       "15       2000 +  \n",
       "16       2000 +  \n",
       "17       2000 +  \n",
       "18       2000 +  \n",
       "19       2000 +  \n",
       "20       2000 +  \n",
       "21       2000 +  \n",
       "22       2000 +  \n",
       "23       2000 +  \n",
       "24       2000 +  \n",
       "25       2000 +  \n",
       "26       2000 +  \n",
       "27       2000 +  \n",
       "28       2000 +  \n",
       "29       2000 +  \n",
       "30       2000 +  \n",
       "31       2000 +  \n",
       "32       2000 +  \n",
       "33       2000 +  \n",
       "34       2000 +  \n",
       "35       2000 +  \n",
       "36       2000 +  \n",
       "37       2000 +  \n",
       "38       2000 +  \n",
       "39       2000 +  \n",
       "40       2000 +  \n",
       "41       2000 +  \n",
       "42       2000 +  \n",
       "43       2000 +  \n",
       "44       2000 +  \n",
       "45       2000 +  \n",
       "46       2000 +  \n",
       "47       2000 +  \n",
       "48       2000 +  \n",
       "49       2000 +  "
      ]
     },
     "execution_count": 288,
     "metadata": {},
     "output_type": "execute_result"
    }
   ],
   "source": [
    "new_order = [5,9,1,2,3,4,7,0,6,8]\n",
    "attacks = attacks[attacks.columns[new_order]]\n",
    "attacks.head(50)"
   ]
  },
  {
   "cell_type": "code",
   "execution_count": 43,
   "metadata": {},
   "outputs": [],
   "source": [
    "#criar lista com os 10 primeiros e renomeia como others != aos 10º\n",
    "# Surfing - 971                                                                                                                                                                                                                                                     \n",
    "# Swimming - 916\n",
    "# Fishing - 431\n",
    "# Spearfishing  - 333                                                                                                                                                   \n",
    "# Bathing - 162\n",
    "# Wading - 149\n",
    "# Diving - 127\n",
    "# Standing - 99\n",
    "# Snorkeling - 89\n",
    "# Scuba diving - 76\n",
    "# Body boarding- 61\n",
    "# Body surfing - 49                                                                                                                                                   \n",
    "# Kayaking  - 33\n",
    "\n",
    "# attacks['activity'].replace('Swimming ','Swimming', inplace=True)\n"
   ]
  },
  {
   "cell_type": "code",
   "execution_count": 40,
   "metadata": {
    "scrolled": true
   },
   "outputs": [
    {
     "data": {
      "text/plain": [
       "2945"
      ]
     },
     "execution_count": 40,
     "metadata": {},
     "output_type": "execute_result"
    }
   ],
   "source": [
    "attacks['activity'].isnull().sum()"
   ]
  },
  {
   "cell_type": "code",
   "execution_count": 107,
   "metadata": {},
   "outputs": [
    {
     "data": {
      "text/plain": [
       "Index(['Surfing', 'Swimming', 'Fishing', 'Spearfishing', 'Bathing', 'Wading',\n",
       "       'Diving', 'Standing', 'Snorkeling', 'Scuba diving'],\n",
       "      dtype='object')"
      ]
     },
     "execution_count": 107,
     "metadata": {},
     "output_type": "execute_result"
    }
   ],
   "source": [
    "attacks['activity'].value_counts()[: 10].index\n",
    "# 5758 non-null   object"
   ]
  },
  {
   "cell_type": "code",
   "execution_count": null,
   "metadata": {},
   "outputs": [],
   "source": [
    "attacks['activity'] = df.groupby('activity')['Bid_Price'].rank(ascending=False)"
   ]
  },
  {
   "cell_type": "code",
   "execution_count": null,
   "metadata": {},
   "outputs": [],
   "source": [
    "funcao q itera nessa lista se sim fica se nao dropa\n"
   ]
  }
 ],
 "metadata": {
  "kernelspec": {
   "display_name": "Python 3",
   "language": "python",
   "name": "python3"
  },
  "language_info": {
   "codemirror_mode": {
    "name": "ipython",
    "version": 3
   },
   "file_extension": ".py",
   "mimetype": "text/x-python",
   "name": "python",
   "nbconvert_exporter": "python",
   "pygments_lexer": "ipython3",
   "version": "3.8.1"
  }
 },
 "nbformat": 4,
 "nbformat_minor": 4
}
