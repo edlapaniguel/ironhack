{
 "cells": [
  {
   "cell_type": "markdown",
   "metadata": {},
   "source": [
    "# Robin Hood:\n",
    "We are in a competition to win the archery contest in Sherwood. With our bow and arrows we shoot on a target and try to hit as close as possible to the center.\n",
    "\n",
    "The center of the target is represented by the values (0, 0) on the coordinate axes.\n",
    "\n",
    "![](images/arrows.jpg)\n",
    "\n",
    "## Goals:\n",
    "* data structures: lists, sets, tuples\n",
    "* logical operators: if-elif-else\n",
    "* loop: while/for\n",
    "* minimum (optional sorting)\n",
    "\n",
    "## Description:\n",
    "In the 2-dimensional space, a point can be defined by a pair of values that correspond to the horizontal coordinate (x) and the vertical coordinate (y). The space can be divided into 4 zones (quadrants): Q1, Q2, Q3, Q4. Whose single point of union is the point (0, 0).\n",
    "\n",
    "If a point is in Q1 both its x coordinate and the y are positive. I leave a link to wikipedia to familiarize yourself with these quadrants.\n",
    "\n",
    "https://en.wikipedia.org/wiki/Cartesian_coordinate_system\n",
    "\n",
    "https://en.wikipedia.org/wiki/Euclidean_distance\n",
    "\n",
    "## Shots\n",
    "```\n",
    "points = [(4, 5), (-0, 2), (4, 7), (1, -3), (3, -2), (4, 5),\n",
    "          (3, 2), (5, 7), (-5, 7), (2, 2), (-4, 5), (0, -2),\n",
    "          (-4, 7), (-1, 3), (-3, 2), (-4, -5), (-3, 2),\n",
    "          (5, 7), (5, 7), (2, 2), (9, 9), (-8, -9)]\n",
    "```\n",
    "\n",
    "## Tasks\n",
    "1. Robin Hood is famous for hitting an arrow with another arrow. Did you get it?\n",
    "2. Calculate how many arrows have fallen in each quadrant.\n",
    "3. Find the point closest to the center. Calculate its distance to the center. \n",
    "4. If the target has a radius of 9, calculate the number of arrows that must be picked up in the forest."
   ]
  },
  {
   "cell_type": "code",
   "execution_count": 8,
   "metadata": {},
   "outputs": [],
   "source": [
    "# Variables\n",
    "\n",
    "points = [(4, 5), (-0, 2), (4, 7), (1, -3), (3, -2), (4, 5),\n",
    "          (3, 2), (5, 7), (-5, 7), (2, 2), (-4, 5), (0, -2),\n",
    "          (-4, 7), (-1, 3), (-3, 2), (-4, -5), (-3, 2),\n",
    "          (5, 7), (5, 7), (2, 2), (9, 9), (-8, -9)]\n",
    "\n",
    "shoots = []\n",
    "counter = 0"
   ]
  },
  {
   "cell_type": "code",
   "execution_count": 3,
   "metadata": {},
   "outputs": [
    {
     "data": {
      "text/plain": [
       "22"
      ]
     },
     "execution_count": 3,
     "metadata": {},
     "output_type": "execute_result"
    }
   ],
   "source": [
    "len(points)"
   ]
  },
  {
   "cell_type": "code",
   "execution_count": 9,
   "metadata": {},
   "outputs": [
    {
     "name": "stdout",
     "output_type": "stream",
     "text": [
      "no robin\n",
      "no robin\n",
      "no robin\n",
      "no robin\n",
      "no robin\n",
      "no robin\n",
      "no robin\n",
      "no robin\n",
      "no robin\n",
      "no robin\n",
      "no robin\n",
      "no robin\n",
      "no robin\n",
      "no robin\n",
      "no robin\n",
      "no robin\n",
      "no robin\n"
     ]
    }
   ],
   "source": [
    "# 1. Robin Hood is famous for hitting an arrow with another arrow. Did you get it?\n",
    "\n",
    "for coordinate in points:\n",
    "    if coordinate not in shoots:\n",
    "        print(\"no robin\")\n",
    "        shoots.append(coordinate)\n",
    "    else:\n",
    "        counter += 1\n",
    "        "
   ]
  },
  {
   "cell_type": "code",
   "execution_count": 10,
   "metadata": {},
   "outputs": [
    {
     "data": {
      "text/plain": [
       "5"
      ]
     },
     "execution_count": 10,
     "metadata": {},
     "output_type": "execute_result"
    }
   ],
   "source": [
    "counter"
   ]
  },
  {
   "cell_type": "code",
   "execution_count": 16,
   "metadata": {},
   "outputs": [
    {
     "data": {
      "text/plain": [
       "9"
      ]
     },
     "execution_count": 16,
     "metadata": {},
     "output_type": "execute_result"
    }
   ],
   "source": [
    "ad = []\n",
    "counter_cord = 0\n",
    "\n",
    "for coordinate in set(points):\n",
    "    ad.append(points.count(coordinate))\n",
    "\n",
    "ad\n",
    "for coordinate in ad:\n",
    "    if coordinate > 1:\n",
    "        counter_cord = counter_cord + coordinate\n",
    "        \n",
    "counter_cord\n",
    "        \n",
    "   "
   ]
  },
  {
   "cell_type": "code",
   "execution_count": 65,
   "metadata": {},
   "outputs": [],
   "source": [
    "# 2. Calculate how many arrows have fallen in each quadrant.\n",
    "\n",
    "quadrant_I = []\n",
    "quadrant_II = []\n",
    "quadrant_III = []\n",
    "quadrant_IV = []"
   ]
  },
  {
   "cell_type": "code",
   "execution_count": 66,
   "metadata": {},
   "outputs": [
    {
     "name": "stdout",
     "output_type": "stream",
     "text": [
      "10\n",
      "6\n",
      "2\n",
      "2\n"
     ]
    }
   ],
   "source": [
    "for x,y in points:\n",
    "    if x > 0 and y > 0:\n",
    "        quadrant_I.append((x,y))\n",
    "    elif x < 0 and y > 0:\n",
    "        quadrant_II.append((x,y))\n",
    "    elif x < 0 and y < 0:\n",
    "        quadrant_III.append((x,y))\n",
    "    elif x > 0 and y < 0:\n",
    "        quadrant_IV.append((x,y))\n",
    "\n",
    "print(len(quadrant_I))\n",
    "print(len(quadrant_II))\n",
    "print(len(quadrant_III))\n",
    "print(len(quadrant_IV))\n",
    "     \n"
   ]
  },
  {
   "cell_type": "code",
   "execution_count": 77,
   "metadata": {},
   "outputs": [
    {
     "name": "stdout",
     "output_type": "stream",
     "text": [
      "{(4, 5): 6.4031242374328485, (0, 2): 2.0, (4, 7): 8.06225774829855, (1, -3): 3.1622776601683795, (3, -2): 3.605551275463989, (3, 2): 3.605551275463989, (5, 7): 8.602325267042627, (-5, 7): 8.602325267042627, (2, 2): 2.8284271247461903, (-4, 5): 6.4031242374328485, (0, -2): 2.0, (-4, 7): 8.06225774829855, (-1, 3): 3.1622776601683795, (-3, 2): 3.605551275463989, (-4, -5): 6.4031242374328485, (9, 9): 12.727922061357855, (-8, -9): 12.041594578792296}\n",
      "2.0\n",
      "(0, 2)\n",
      "(0, -2)\n"
     ]
    }
   ],
   "source": [
    "# 3. Find the point closest to the center. Calculate its distance to the center\n",
    "# Defining a function that calculates the distance to the center can help.\n",
    "\n",
    "distance = []\n",
    "dic = {}\n",
    "\n",
    "for x,y in points:\n",
    "    distance.append((x**2+y**2)**(1/2))\n",
    "    for point in range(len(distance)):\n",
    "        dic[(x,y)]=distance[point]\n",
    "    \n",
    "print(dic)  \n",
    "\n",
    "print(min(distance))\n",
    "\n",
    "for point, dist in dic.items():\n",
    "    if dist == min(distance):\n",
    "        print(point)\n",
    "    \n",
    "    "
   ]
  },
  {
   "cell_type": "code",
   "execution_count": 79,
   "metadata": {},
   "outputs": [
    {
     "name": "stdout",
     "output_type": "stream",
     "text": [
      "2\n"
     ]
    }
   ],
   "source": [
    "# 4. If the target has a radius of 9, calculate the number of arrows that \n",
    "# must be picked up in the forest.\n",
    "\n",
    "forest = []\n",
    "\n",
    "for NOA in distance:\n",
    "    if NOA > 9:\n",
    "        forest.append((NOA))\n",
    "\n",
    "print(len(forest))\n",
    "        \n"
   ]
  },
  {
   "cell_type": "code",
   "execution_count": null,
   "metadata": {},
   "outputs": [],
   "source": []
  }
 ],
 "metadata": {
  "kernelspec": {
   "display_name": "Python 3",
   "language": "python",
   "name": "python3"
  },
  "language_info": {
   "codemirror_mode": {
    "name": "ipython",
    "version": 3
   },
   "file_extension": ".py",
   "mimetype": "text/x-python",
   "name": "python",
   "nbconvert_exporter": "python",
   "pygments_lexer": "ipython3",
   "version": "3.7.6"
  }
 },
 "nbformat": 4,
 "nbformat_minor": 2
}
